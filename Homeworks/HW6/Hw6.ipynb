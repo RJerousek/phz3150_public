{
 "cells": [
  {
   "cell_type": "markdown",
   "id": "420fac39",
   "metadata": {},
   "source": [
    "# Homework 6\n",
    "You can use the space bellow to add all the modules you are importing (e.g., numpy), you can also do it throughtout the notebook, but it's easier to have it all in one place."
   ]
  },
  {
   "cell_type": "code",
   "execution_count": 3,
   "id": "11ceeae8",
   "metadata": {},
   "outputs": [],
   "source": [
    "import numpy as np"
   ]
  },
  {
   "cell_type": "markdown",
   "id": "e2c7b253",
   "metadata": {},
   "source": [
    "## Problem 1 (15 points)\n",
    "For loops automatically iterate over a parameter i (unlike while loops). They start from i=0 (or whichever value you ask), do what you want them to do and then automatically do i = i+1 (i+=1). Writing an extra i = i+1 can create accidental bugs in for loops, while missing a i = i+1 can make your while loops run an infinite time.\n",
    "\n",
    "Create a list named list_of_words with each word of the sentence as an element by splitting the sentence at the spaces between the words.\n",
    "\n",
    "**\"Deleting an item from a list or array while iterating over it is a Python problem that is well known to any experienced software developer\"**"
   ]
  },
  {
   "cell_type": "code",
   "execution_count": 43,
   "id": "a82c6233",
   "metadata": {},
   "outputs": [],
   "source": []
  },
  {
   "cell_type": "markdown",
   "id": "4be3a800",
   "metadata": {},
   "source": [
    "<span style=\"color:red;\">\n",
    "<h1> Solution:</h1>\n",
    "['Deleting', 'an', 'item', 'from', 'a', 'list', 'or', 'array', 'while', 'iterating', 'over', 'it', 'is', 'a', 'Python', 'problem', 'that', 'is', 'well', 'known', 'to', 'any', 'experienced', 'software', 'developer']\n",
    "</span>"
   ]
  },
  {
   "cell_type": "markdown",
   "id": "23cfdc20",
   "metadata": {},
   "source": [
    "Then, create a function called largest_word_for_loop(list_of_words), that takes a list of words and returns the longest word in the list, but make sure you use a for loop in your function."
   ]
  },
  {
   "cell_type": "code",
   "execution_count": 5,
   "id": "b6d3d8b1",
   "metadata": {},
   "outputs": [],
   "source": []
  },
  {
   "cell_type": "markdown",
   "id": "5f7de5ad",
   "metadata": {},
   "source": [
    "Now, create a similar function largest_word_while_loop(list_of_words), that does the same thing as the previous function, but now looping over the list with a while loop."
   ]
  },
  {
   "cell_type": "code",
   "execution_count": 10,
   "id": "af48e726",
   "metadata": {},
   "outputs": [],
   "source": []
  },
  {
   "cell_type": "markdown",
   "id": "796e8271",
   "metadata": {},
   "source": [
    "Now call both functions with the list of words you created earlier and check that you get the same result."
   ]
  },
  {
   "cell_type": "code",
   "execution_count": null,
   "id": "182f7fe0",
   "metadata": {},
   "outputs": [],
   "source": []
  },
  {
   "cell_type": "markdown",
   "id": "e410e77b",
   "metadata": {},
   "source": [
    "<span style=\"color:red;\">\n",
    "<h1> Solution:</h1>\n",
    "The result that I get with the for loop: experienced<br>\n",
    "The result that I get with the while loop: experienced\n",
    "</span>"
   ]
  },
  {
   "cell_type": "markdown",
   "id": "e8f7146d",
   "metadata": {},
   "source": [
    "## Problem 2 (15 points)\n",
    "In the in a separate .py file (you can name it whatever you want, but try to name it something meaningful) create a function circle(x,x0,y0,r) that takes as input an array x, the coordinates of the center of the circle (x0,y0) and a radius r and return all y coordinates of the circle with radius r. Remember that a circle follows the equation $$(x-x_0)^2 + (y-y_0)^2 = r^2$$"
   ]
  },
  {
   "cell_type": "code",
   "execution_count": 42,
   "id": "a737c057",
   "metadata": {},
   "outputs": [],
   "source": []
  },
  {
   "cell_type": "markdown",
   "id": "90cb6a15",
   "metadata": {},
   "source": [
    "Now import the function circle bellow. Call it for (x0,y0)= (2,2), x = - 8.+0.1*np.arange(201) and r =10. Use the y coordinates to plot the circle. If you get only half a circle, why is that? Explain and fix your function to return both values (Hint: make your function return two different sets of y coordinates)."
   ]
  },
  {
   "cell_type": "code",
   "execution_count": null,
   "id": "b947e327",
   "metadata": {},
   "outputs": [],
   "source": []
  },
  {
   "cell_type": "markdown",
   "id": "4333ea74",
   "metadata": {},
   "source": [
    "<span style=\"color:red;\">\n",
    "<h1> Solution:</h1>\n",
    "</span>"
   ]
  },
  {
   "attachments": {
    "image-2.png": {
     "image/png": "[encoded data removed]"
    }
   },
   "cell_type": "markdown",
   "id": "6e4febf2",
   "metadata": {},
   "source": [
    "![image-2.png](attachment:image-2.png)"
   ]
  },
  {
   "cell_type": "markdown",
   "id": "3fae34d2",
   "metadata": {},
   "source": [
    "## Problem 3 (15 points)\n",
    "In the same .py file that you created for problem 2, create a new function called order_array(input_array), that takes as input an array of numbers and returns a new array with the numbers ordered from smallest to largest. However, do not use any predefined function, like the ones in numpy. Write an appropriate and informative docstring. Save it in your .py file. Import the function in the main homework folder and call it for the array bellow."
   ]
  },
  {
   "cell_type": "code",
   "execution_count": 5,
   "id": "2dade252",
   "metadata": {},
   "outputs": [],
   "source": [
    "array = np.array([4,5,2,10,42,22,8,12])"
   ]
  },
  {
   "cell_type": "markdown",
   "id": "f9d855a7",
   "metadata": {},
   "source": [
    "Now print the result you get using your function, and the result you get using the appropriate numpy function to test your results."
   ]
  },
  {
   "cell_type": "code",
   "execution_count": null,
   "id": "ae19b5a8",
   "metadata": {},
   "outputs": [],
   "source": []
  },
  {
   "cell_type": "markdown",
   "id": "897ae857",
   "metadata": {},
   "source": [
    "<span style=\"color:red;\">\n",
    "<h1> Solution:</h1>\n",
    "This is what I get with my function: [ 2  4  5  8 10 12 22 42]<br>\n",
    "This is what I get with the numpy function: [ 2  4  5  8 10 12 22 42]\n",
    "</span>"
   ]
  },
  {
   "cell_type": "markdown",
   "id": "b96b1e1d",
   "metadata": {},
   "source": [
    "## Problem 4 (5 points)\n",
    "You are given array my_data bellow."
   ]
  },
  {
   "cell_type": "code",
   "execution_count": 4,
   "id": "8ea37a90",
   "metadata": {},
   "outputs": [],
   "source": [
    "my_data = np.arange(1, 26).reshape((5, 5))"
   ]
  },
  {
   "cell_type": "markdown",
   "id": "932a4c31",
   "metadata": {},
   "source": [
    "Scan the my_data array with a for/if structure and find the maximum value and assign it to a variable called max_val."
   ]
  },
  {
   "cell_type": "code",
   "execution_count": null,
   "id": "3133cbdd",
   "metadata": {},
   "outputs": [],
   "source": []
  },
  {
   "cell_type": "markdown",
   "id": "14fee0f8",
   "metadata": {},
   "source": [
    "Calculate the mean of the my_data using a for/if and assign it to a variable called mean_val."
   ]
  },
  {
   "cell_type": "code",
   "execution_count": null,
   "id": "6b721dc1",
   "metadata": {},
   "outputs": [],
   "source": []
  },
  {
   "cell_type": "markdown",
   "id": "cae6f40a",
   "metadata": {},
   "source": [
    "Now compare your results with the numpy functions."
   ]
  },
  {
   "cell_type": "code",
   "execution_count": null,
   "id": "915f7f01",
   "metadata": {},
   "outputs": [],
   "source": []
  },
  {
   "cell_type": "markdown",
   "id": "f16ee0a0",
   "metadata": {},
   "source": [
    "<span style=\"color:red;\">\n",
    "<h1> Solution:</h1>\n",
    "This is what I get with my functions; max_val: 25 , and mean_val: 13.0<br>\n",
    "This is what I get with numpy functions; max_val: 25 , and mean_val: 13.0\n",
    "</span>"
   ]
  },
  {
   "cell_type": "markdown",
   "id": "6b7a043c",
   "metadata": {},
   "source": [
    "# Log goes here $\\downarrow$"
   ]
  },
  {
   "cell_type": "code",
   "execution_count": null,
   "id": "7bece6b9",
   "metadata": {},
   "outputs": [],
   "source": []
  }
 ],
 "metadata": {
  "kernelspec": {
   "display_name": "Python 3 (ipykernel)",
   "language": "python",
   "name": "python3"
  },
  "language_info": {
   "codemirror_mode": {
    "name": "ipython",
    "version": 3
   },
   "file_extension": ".py",
   "mimetype": "text/x-python",
   "name": "python",
   "nbconvert_exporter": "python",
   "pygments_lexer": "ipython3",
   "version": "3.11.5"
  }
 },
 "nbformat": 4,
 "nbformat_minor": 5
}
