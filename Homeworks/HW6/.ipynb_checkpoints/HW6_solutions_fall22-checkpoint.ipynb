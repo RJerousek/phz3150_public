{
 "cells": [
  {
   "cell_type": "code",
   "execution_count": 7,
   "metadata": {},
   "outputs": [],
   "source": [
    "import numpy as np\n",
    "import matplotlib.pyplot as plt"
   ]
  },
  {
   "cell_type": "markdown",
   "metadata": {},
   "source": [
    "### 2. Import numpy and pyplot. Create a numpy array x that goes from 1 up to and including 100 (last element must be 100.0) with a step of 0.5. Create array y that is the log10 of x and array z that is equal to the square root of x. Plot y(x) and z(x) in the same plot. Manually specify different colors, line styles, line thicknesses, markers (and their size) and tickmarks for your plot. Add titles to your plot axis. Make sure they are legible. Save it as a pdf file using the appropriate naming conventions (i.e., hw6_problem2_...pdf). "
   ]
  },
  {
   "cell_type": "code",
   "execution_count": 8,
   "metadata": {},
   "outputs": [
    {
     "name": "stdout",
     "output_type": "stream",
     "text": [
      "Problem 2:\n",
      "\n"
     ]
    }
   ],
   "source": [
    "print(\"Problem 2:\\n\")"
   ]
  },
  {
   "cell_type": "code",
   "execution_count": 9,
   "metadata": {},
   "outputs": [
    {
     "data": {
      "text/plain": [
       "(array([-20.,   0.,  20.,  40.,  60.,  80., 100., 120.]),\n",
       " [Text(0, 0, ''),\n",
       "  Text(0, 0, ''),\n",
       "  Text(0, 0, ''),\n",
       "  Text(0, 0, ''),\n",
       "  Text(0, 0, ''),\n",
       "  Text(0, 0, ''),\n",
       "  Text(0, 0, ''),\n",
       "  Text(0, 0, '')])"
      ]
     },
     "execution_count": 9,
     "metadata": {},
     "output_type": "execute_result"
    },
    {
     "data": {
      "image/png": "[encoded data removed]",
      "text/plain": [
       "<Figure size 576x576 with 1 Axes>"
      ]
     },
     "metadata": {
      "needs_background": "light"
     },
     "output_type": "display_data"
    }
   ],
   "source": [
    "#Create anumpy array x that goes from 1 up to and including 100 (last elementmustbe 100.0)with a step of 0.5. \n",
    "\n",
    "x = np.arange( 1, 100.5, 0.5 )\n",
    "y = np.log10( x )\n",
    "z = np.sqrt ( x )\n",
    "\n",
    "\n",
    "plt.figure( figsize = ( 8, 8 ) )\n",
    "\n",
    "plt.plot( x, y, color = 'red' , linestyle = '-', marker = 'o', markersize = 5, \n",
    "        linewidth = 4 , label = 'log' )\n",
    "plt.plot( x, z, color = 'blue' , linestyle = '-.', marker = 'd', markersize = 5, \n",
    "        linewidth = 4 , label = 'sqrt' )\n",
    "\n",
    "plt.xlabel( 'x'   , fontsize = 30 )\n",
    "plt.ylabel( 'y, z', fontsize = 30 )\n",
    "\n",
    "plt.title( 'Problem 2' , fontsize = 30 )\n",
    "plt.yticks( fontsize = 30 )\n",
    "plt.xticks( fontsize = 30 )\n",
    "\n",
    "#plt.savefig( 'hw6_problem2_myname.pdf', format = 'pdf', \n",
    "#            dpi = 1200, bbox_inches = 'tight', pad_inches = 0.3 )"
   ]
  },
  {
   "cell_type": "markdown",
   "metadata": {},
   "source": [
    "### 3. Create an array q that has the values: 45 24 5 30  3 67 33 60 65 13 82 75 21 77 67 8 86 62 23 70 11 70 21 15 84 51  6 79 78 66  2 93 49 74 23 85 25 38 1 89 . Print the array. Print the locations where q is larger than 50. Print, in one command, the elements of q that are larger than 50 and smaller than 70.  "
   ]
  },
  {
   "cell_type": "code",
   "execution_count": 16,
   "metadata": {},
   "outputs": [
    {
     "name": "stdout",
     "output_type": "stream",
     "text": [
      "Problem 3: \n",
      "\n"
     ]
    }
   ],
   "source": [
    "print( 'Problem 3: \\n')\n",
    "\n",
    "q = np.array([ 45, 24, 5, 30, 3, 67, 33, 60, 65, 13, 82, 75, 21, 77,\n",
    "              67, 8, 86, 62, 23, 70, 11, 70, 21, 15, 84, 51, 6, 79, 78, \n",
    "              66, 2, 93, 49, 74, 23, 85, 25, 38, 1, 89])"
   ]
  },
  {
   "cell_type": "code",
   "execution_count": 17,
   "metadata": {},
   "outputs": [
    {
     "name": "stdout",
     "output_type": "stream",
     "text": [
      "[45 24  5 30  3 67 33 60 65 13 82 75 21 77 67  8 86 62 23 70 11 70 21 15\n",
      " 84 51  6 79 78 66  2 93 49 74 23 85 25 38  1 89]\n",
      "(array([ 5,  7,  8, 10, 11, 13, 14, 16, 17, 19, 21, 24, 25, 27, 28, 29, 31,\n",
      "       33, 35, 39]),)\n",
      "[67 60 65 67 62 51 66]\n",
      "[67 60 65 67 62 51 66]\n"
     ]
    }
   ],
   "source": [
    "print( q )\n",
    "\n",
    "print( np.where( q > 50 ) )\n",
    "\n",
    "print( q[ (q > 50) & (q < 70 ) ] ) \n",
    "# or:\n",
    "print( q[ np.where( (q > 50) & (q < 70 ) ) ] )  "
   ]
  },
  {
   "cell_type": "markdown",
   "metadata": {},
   "source": [
    "### Make a list q_list out of q. Print the 12th up to and including the 14th elements of the list. Change element 28 of the list to be 42.0. Does it work? Why/ why not? Explain. \n",
    "\n"
   ]
  },
  {
   "cell_type": "code",
   "execution_count": 18,
   "metadata": {},
   "outputs": [],
   "source": [
    "q_list = list( q )"
   ]
  },
  {
   "cell_type": "code",
   "execution_count": 19,
   "metadata": {},
   "outputs": [
    {
     "name": "stdout",
     "output_type": "stream",
     "text": [
      "[75, 21, 77]\n"
     ]
    }
   ],
   "source": [
    "print( q_list[ 11: 14 ])"
   ]
  },
  {
   "cell_type": "code",
   "execution_count": 20,
   "metadata": {},
   "outputs": [],
   "source": [
    "q_list[ 28 ] = 42.\n",
    "##yes it works because lists are mutable"
   ]
  },
  {
   "cell_type": "markdown",
   "metadata": {},
   "source": [
    "### Make a tuple q_tuple out of z . Print the 20th element of test_tuple. Change element 21 of test_tuple to be 44.0. Does it work? Why/ why not? Explain."
   ]
  },
  {
   "cell_type": "code",
   "execution_count": 15,
   "metadata": {},
   "outputs": [],
   "source": [
    "q_tuple = tuple( q )"
   ]
  },
  {
   "cell_type": "code",
   "execution_count": 21,
   "metadata": {},
   "outputs": [
    {
     "name": "stdout",
     "output_type": "stream",
     "text": [
      "70\n"
     ]
    }
   ],
   "source": [
    "print( q_tuple[ 19 ] )"
   ]
  },
  {
   "cell_type": "code",
   "execution_count": 23,
   "metadata": {},
   "outputs": [
    {
     "ename": "TypeError",
     "evalue": "'tuple' object does not support item assignment",
     "output_type": "error",
     "traceback": [
      "\u001b[0;31m---------------------------------------------------------------------------\u001b[0m",
      "\u001b[0;31mTypeError\u001b[0m                                 Traceback (most recent call last)",
      "\u001b[0;32m/var/folders/vk/lzczn8j541jbb03xcymwp9640000gn/T/ipykernel_82530/85685241.py\u001b[0m in \u001b[0;36m<module>\u001b[0;34m\u001b[0m\n\u001b[0;32m----> 1\u001b[0;31m \u001b[0mq_tuple\u001b[0m\u001b[0;34m[\u001b[0m \u001b[0;36m21\u001b[0m \u001b[0;34m]\u001b[0m \u001b[0;34m=\u001b[0m \u001b[0;36m44.\u001b[0m\u001b[0;34m\u001b[0m\u001b[0;34m\u001b[0m\u001b[0m\n\u001b[0m\u001b[1;32m      2\u001b[0m \u001b[0;31m## It doesn't work because tuples are immutable\u001b[0m\u001b[0;34m\u001b[0m\u001b[0;34m\u001b[0m\u001b[0;34m\u001b[0m\u001b[0m\n",
      "\u001b[0;31mTypeError\u001b[0m: 'tuple' object does not support item assignment"
     ]
    }
   ],
   "source": [
    "q_tuple[ 21 ] = 44. \n",
    "## It doesn't work because tuples are immutable"
   ]
  },
  {
   "cell_type": "markdown",
   "metadata": {},
   "source": [
    "### Create a list of strings word_list that contains the words ‘twinkle’, ‘twinkle’, ‘little’, ‘star’. Scan every word (one by one is fine, we haven’t talked about for loops yet) of your list and find out which words contain a ‘e’ and which words contain an ‘a’, and the index of the letter ‘e’ and ‘a’ in the word (e.g., in Mary ‘a’ is on 1). Is word ‘star’ or ‘bright’ in your word_list? Write the code to test it."
   ]
  },
  {
   "cell_type": "code",
   "execution_count": 24,
   "metadata": {},
   "outputs": [
    {
     "name": "stdout",
     "output_type": "stream",
     "text": [
      "The indexes of letter e on the words are: \n",
      "For twinkle : 6\n",
      "For twinkle : 6\n",
      "For little : 5\n",
      "For star : -1\n",
      "The indexes of letter a on the words are: \n",
      "For twinkle : -1\n",
      "For twinkle : -1\n",
      "For little : -1\n",
      "For star : 2\n"
     ]
    }
   ],
   "source": [
    "word_list = [ 'twinkle', 'twinkle', 'little', 'star' ]\n",
    "\n",
    "print('The indexes of letter e on the words are: ')\n",
    "print( 'For', word_list[ 0 ], ':', word_list[ 0 ].find( 'e' ) )\n",
    "print( 'For', word_list[ 1 ], ':', word_list[ 1 ].find( 'e' ) )\n",
    "print( 'For', word_list[ 2 ], ':',word_list[ 2 ].find( 'e' ) )\n",
    "print( 'For', word_list[ 3 ], ':',word_list[ 3 ].find( 'e' ) )\n",
    "\n",
    "\n",
    "print('The indexes of letter a on the words are: ')\n",
    "print( 'For', word_list[ 0 ], ':',word_list[ 0 ].find( 'a' ) )\n",
    "print( 'For', word_list[ 1 ], ':',word_list[ 1 ].find( 'a' ) )\n",
    "print( 'For', word_list[ 2 ], ':',word_list[ 2 ].find( 'a' ) )\n",
    "print( 'For', word_list[ 3 ], ':',word_list[ 3 ].find( 'a' ) )"
   ]
  },
  {
   "cell_type": "code",
   "execution_count": 25,
   "metadata": {},
   "outputs": [
    {
     "name": "stdout",
     "output_type": "stream",
     "text": [
      "False\n",
      "False\n",
      "False\n",
      "True\n",
      " \n",
      "False\n",
      "False\n",
      "False\n",
      "False\n"
     ]
    }
   ],
   "source": [
    "#slower way, test one by one all words,\n",
    "print( 'star' == word_list[ 0 ] ) \n",
    "print( 'star' == word_list[ 1 ] ) \n",
    "print( 'star' == word_list[ 2 ] ) \n",
    "print( 'star' == word_list[ 3 ] ) \n",
    "\n",
    "print(' ')\n",
    "\n",
    "print( 'bright' == word_list[ 0 ] ) \n",
    "print( 'bright' == word_list[ 1 ] ) \n",
    "print( 'bright' == word_list[ 2 ] ) \n",
    "print( 'bright' == word_list[ 3 ] ) "
   ]
  },
  {
   "cell_type": "code",
   "execution_count": 27,
   "metadata": {},
   "outputs": [
    {
     "name": "stdout",
     "output_type": "stream",
     "text": [
      "yes star is there\n"
     ]
    }
   ],
   "source": [
    "#faster way to do it:\n",
    "\n",
    "if 'star' in word_list:\n",
    "    print( 'yes star is there')\n",
    "if 'bright' in word_list:\n",
    "    print('yes bright is there')"
   ]
  },
  {
   "cell_type": "code",
   "execution_count": null,
   "metadata": {},
   "outputs": [],
   "source": []
  },
  {
   "cell_type": "markdown",
   "metadata": {},
   "source": [
    "### 4. Create a function word_to_number that takes as input an English word that corresponds to a number from 0 to 20 (‘zero’, ‘one’ etc) and returns the corresponding number (0, 1, etc). In the function create a dictionary that maps every appropriate English word to the corresponding number (so 1 will be mapped to ‘one’ ). The keys should be your words and the values the number. Remember to write an appropriate docstring for your function! In the main program call the function for: ‘three’, ‘seven’, ‘twelve’ , ‘sixteen’ and ‘nineteen’ and print an informative statements (e.g., “ ‘three’ is 3 “ )."
   ]
  },
  {
   "cell_type": "code",
   "execution_count": 3,
   "metadata": {},
   "outputs": [
    {
     "name": "stdout",
     "output_type": "stream",
     "text": [
      "Problem 4: \n",
      "\n"
     ]
    }
   ],
   "source": [
    "print( 'Problem 4: \\n')"
   ]
  },
  {
   "cell_type": "code",
   "execution_count": 1,
   "metadata": {},
   "outputs": [],
   "source": [
    "def word_to_number(your_number):\n",
    "    \"\"\"Takes an english numerical word and gives you the corresponding number (1-20).\n",
    "    Input: english name of number\n",
    "    Output: number \"\"\"\n",
    "    \n",
    "    word_to_num={} # dict()\n",
    "    \n",
    "    word_to_num['one']   = 1\n",
    "    word_to_num['two']   = 2\n",
    "    word_to_num['three'] = 3\n",
    "    word_to_num['four']  = 4\n",
    "    word_to_num['five']  = 5\n",
    "    word_to_num['six']   = 6\n",
    "    word_to_num['seven'] = 7\n",
    "    word_to_num['eight'] = 8\n",
    "    word_to_num['nine']  = 9\n",
    "    word_to_num['ten']   = 10\n",
    "    word_to_num['eleven']    = 11\n",
    "    word_to_num['twelve']    = 12\n",
    "    word_to_num['thirteen']  = 13\n",
    "    word_to_num['fourteen']  = 14\n",
    "    word_to_num['fifteen']   = 15\n",
    "    word_to_num['sixteen']   = 16\n",
    "    word_to_num['seventeen'] = 17\n",
    "    word_to_num['eightteen'] = 18\n",
    "    word_to_num['nineteen']  = 19\n",
    "    word_to_num['twenty']    = 20\n",
    "    \n",
    "    return word_to_num[ your_number ]"
   ]
  },
  {
   "cell_type": "code",
   "execution_count": 2,
   "metadata": {},
   "outputs": [
    {
     "name": "stdout",
     "output_type": "stream",
     "text": [
      "Three is: 3\n",
      "Seven is: 7\n",
      "Twelve is: 12\n",
      "Sixteen is: 16\n",
      "Nineteen is: 19\n"
     ]
    }
   ],
   "source": [
    "print( 'Three is:', word_to_number( 'three' ) )\n",
    "print( 'Seven is:', word_to_number( 'seven' ) )\n",
    "print( 'Twelve is:', word_to_number( 'twelve' ) )\n",
    "print( 'Sixteen is:', word_to_number( 'sixteen' ) )\n",
    "print( 'Nineteen is:', word_to_number( 'nineteen' ) )"
   ]
  },
  {
   "cell_type": "code",
   "execution_count": null,
   "metadata": {},
   "outputs": [],
   "source": []
  }
 ],
 "metadata": {
  "kernelspec": {
   "display_name": "Python 3",
   "language": "python",
   "name": "python3"
  },
  "language_info": {
   "codemirror_mode": {
    "name": "ipython",
    "version": 3
   },
   "file_extension": ".py",
   "mimetype": "text/x-python",
   "name": "python",
   "nbconvert_exporter": "python",
   "pygments_lexer": "ipython3",
   "version": "3.7.6"
  }
 },
 "nbformat": 4,
 "nbformat_minor": 5
}
