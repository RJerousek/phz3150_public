{
 "cells": [
  {
   "cell_type": "code",
   "execution_count": 1,
   "metadata": {},
   "outputs": [],
   "source": [
    "import numpy as np\n",
    "import matplotlib.pyplot as plt"
   ]
  },
  {
   "cell_type": "code",
   "execution_count": 2,
   "metadata": {},
   "outputs": [
    {
     "name": "stdout",
     "output_type": "stream",
     "text": [
      "Problem 2:\n",
      "\n"
     ]
    }
   ],
   "source": [
    "print( 'Problem 2:\\n')"
   ]
  },
  {
   "cell_type": "code",
   "execution_count": 3,
   "metadata": {},
   "outputs": [],
   "source": [
    "x = np.linspace(1,100,40) \n",
    "y = np.array([  7.7,  15.82307692,  23.94615385,  32.06923077, 40.19230769, \n",
    "              48.31538462, 56.43846154,  64.56153846, 72.68461538, 80.80769231,  \n",
    "              88.93076923,  97.05384615, 105.17692308, 113.3 , 121.42307692, 129.54615385, \n",
    "              137.66923077, 145.79230769, 153.91538462, 162.03846154, 170.16153846, 178.28461538, \n",
    "              186.40769231, 194.53076923, 202.65384615, 210.77692308, 218.9, 227.02307692, \n",
    "              235.14615385, 243.26923077, 251.39230769, 259.51538462, 267.63846154, 275.76153846, \n",
    "              283.88461538, 292.00769231, 300.13076923, 308.25384615, 316.37692308, 324.5])"
   ]
  },
  {
   "cell_type": "code",
   "execution_count": 4,
   "metadata": {},
   "outputs": [],
   "source": [
    "#y_mod = a*x_mod+b, with x_mod = np.linspace(1,100,100), 0.1<a<10 and 0.1<b<15. \n",
    "\n",
    "x_mod = np.linspace(1,100,100)\n",
    "\n",
    "# interpolate y from x to x_mod so that we can compare \"apples to apples\" \n",
    "y_mod = np.interp( x_mod, x, y )"
   ]
  },
  {
   "cell_type": "code",
   "execution_count": 5,
   "metadata": {},
   "outputs": [],
   "source": [
    "a = np.arange( 0.1, 10., .1 )\n",
    "b = np.arange( 1.1, 15., .1 )"
   ]
  },
  {
   "cell_type": "code",
   "execution_count": 6,
   "metadata": {},
   "outputs": [],
   "source": [
    "chis = np.zeros( (len( a ), len( b ) ) )\n",
    "\n",
    "for i in range( len( a ) ):\n",
    "    for j in range( len (b ) ):\n",
    "        mods = a[ i ] * x_mod + b[ j ]\n",
    "        chis[ i, j ] = np.sum( (mods - y_mod ) **2. / mods**2. )"
   ]
  },
  {
   "cell_type": "code",
   "execution_count": 7,
   "metadata": {},
   "outputs": [
    {
     "name": "stdout",
     "output_type": "stream",
     "text": [
      "(array([31]), array([34]))\n"
     ]
    }
   ],
   "source": [
    "qmin = np.where( chis == np.min( chis ) )\n",
    "print( qmin)\n"
   ]
  },
  {
   "cell_type": "code",
   "execution_count": 8,
   "metadata": {},
   "outputs": [
    {
     "name": "stdout",
     "output_type": "stream",
     "text": [
      "The best fit model is:  [3.2]  * x +  [4.5] .\n"
     ]
    }
   ],
   "source": [
    "print( 'The best fit model is: ', a[ qmin[0  ] ], ' * x + ', b[ qmin[ 1 ] ], '.' )"
   ]
  },
  {
   "cell_type": "code",
   "execution_count": 9,
   "metadata": {},
   "outputs": [
    {
     "data": {
      "text/plain": [
       "[<matplotlib.lines.Line2D at 0x7fdea0c93fd0>]"
      ]
     },
     "execution_count": 9,
     "metadata": {},
     "output_type": "execute_result"
    },
    {
     "data": {
      "image/png": "[encoded data removed]",
      "text/plain": [
       "<Figure size 576x576 with 1 Axes>"
      ]
     },
     "metadata": {
      "needs_background": "light"
     },
     "output_type": "display_data"
    }
   ],
   "source": [
    "## sanity check; you didn't need this:\n",
    "plt.figure( figsize = ( 8, 8 ) )\n",
    "plt.plot( x, y, marker = 'o', linestyle = 'none' )\n",
    "plt.plot( x_mod, a[ qmin[0  ] ]* x_mod + b[ qmin[ 1 ] ] )"
   ]
  },
  {
   "cell_type": "code",
   "execution_count": 35,
   "metadata": {},
   "outputs": [],
   "source": [
    "from scipy.optimize import curve_fit"
   ]
  },
  {
   "cell_type": "code",
   "execution_count": 36,
   "metadata": {},
   "outputs": [],
   "source": [
    "def best_model_print(x, a, b):\n",
    "    \"\"\"Calculate the parameters a  and b \"\"\"\n",
    "    \n",
    "    print (\"alpha=\",a, \"beta=\",b )\n",
    "    return a * x + b\n"
   ]
  },
  {
   "cell_type": "code",
   "execution_count": 37,
   "metadata": {},
   "outputs": [
    {
     "name": "stdout",
     "output_type": "stream",
     "text": [
      "alpha= 1.0 beta= 1.0\n",
      "alpha= 1.0 beta= 1.0\n",
      "alpha= 1.0 beta= 1.0\n",
      "alpha= 1.0000000149011612 beta= 1.0\n",
      "alpha= 1.0 beta= 1.0000000149011612\n",
      "alpha= 3.199999999547065 beta= 4.500000016566668\n",
      "alpha= 3.200000047230781 beta= 4.500000016566668\n",
      "alpha= 3.199999999547065 beta= 4.500000083621893\n",
      "alpha= 3.199999999997783 beta= 4.500000000111972\n"
     ]
    }
   ],
   "source": [
    "t2, v2 = curve_fit( best_model_print, x , y, \n",
    "                       absolute_sigma = True, sigma = np.zeros( len( x ) ) + 1 )\n"
   ]
  },
  {
   "cell_type": "code",
   "execution_count": null,
   "metadata": {},
   "outputs": [],
   "source": []
  },
  {
   "cell_type": "code",
   "execution_count": null,
   "metadata": {},
   "outputs": [],
   "source": []
  },
  {
   "cell_type": "code",
   "execution_count": 10,
   "metadata": {},
   "outputs": [
    {
     "name": "stdout",
     "output_type": "stream",
     "text": [
      "Problem 3:/n\n"
     ]
    }
   ],
   "source": [
    "print( 'Problem 3:/n')"
   ]
  },
  {
   "cell_type": "code",
   "execution_count": 11,
   "metadata": {},
   "outputs": [
    {
     "name": "stdout",
     "output_type": "stream",
     "text": [
      "3a:\n",
      "\n"
     ]
    }
   ],
   "source": [
    "print('3a:\\n')"
   ]
  },
  {
   "cell_type": "code",
   "execution_count": 12,
   "metadata": {},
   "outputs": [],
   "source": [
    "def wind_chill( T, V):\n",
    "    \"\"\"calculates the wind chill on a given day\n",
    "    Input: actual T [F] , wind speed V [mph]\n",
    "    Output: wind chill \"\"\"\n",
    "    \n",
    "    WC = 35.74 + 0.6215 * T - 35.75 * V**0.16 + 0.4275 * T * V**0.16\n",
    "    return WC"
   ]
  },
  {
   "cell_type": "code",
   "execution_count": 13,
   "metadata": {},
   "outputs": [
    {
     "name": "stdout",
     "output_type": "stream",
     "text": [
      "The wind chill on a day with  20  F and wind of  55  mph is:  -3.4748397706315757 F.\n"
     ]
    }
   ],
   "source": [
    "T1 = 20\n",
    "V1 = 55\n",
    "print( 'The wind chill on a day with ', T1, ' F and wind of ', V1, ' mph is: ', wind_chill( T1, V1), 'F.' )"
   ]
  },
  {
   "cell_type": "code",
   "execution_count": null,
   "metadata": {},
   "outputs": [],
   "source": []
  },
  {
   "cell_type": "code",
   "execution_count": 14,
   "metadata": {},
   "outputs": [
    {
     "name": "stdout",
     "output_type": "stream",
     "text": [
      "3b:\n",
      "\n"
     ]
    }
   ],
   "source": [
    "print('3b:\\n')"
   ]
  },
  {
   "cell_type": "code",
   "execution_count": 15,
   "metadata": {},
   "outputs": [],
   "source": [
    "def parallax_to_distance( my_stars ):\n",
    "    \"\"\"Calculates the distances of stars to the Earth. \n",
    "    Input: dictionary with keys the star name and value the star's parallax in milliarcsec \n",
    "    Output: dictionary with keys the star name and value the star's distance in pc\"\"\"\n",
    "    \n",
    "    my_parallaxes = {}\n",
    "    \n",
    "    for i,key in enumerate( my_stars.keys() ) :\n",
    "        \n",
    "        p = 1e-3 * my_stars[ key ] \n",
    "        d = 1 / p\n",
    "        \n",
    "        my_parallaxes[ key ] = d\n",
    "        \n",
    "    return my_parallaxes"
   ]
  },
  {
   "cell_type": "code",
   "execution_count": 16,
   "metadata": {},
   "outputs": [
    {
     "name": "stdout",
     "output_type": "stream",
     "text": [
      "{'Betelgeuse': 131.06159895150722, 'Antares': 169.77928692699493, 'Spica': 76.5696784073507, 'Proxima Cen': 1.3020833333333333}\n"
     ]
    }
   ],
   "source": [
    "my_dict = { 'Betelgeuse' : 7.63, 'Antares' : 5.89, 'Spica' : 13.06, 'Proxima Cen' : 768}\n",
    "\n",
    "print( parallax_to_distance( my_dict ) )"
   ]
  },
  {
   "cell_type": "code",
   "execution_count": null,
   "metadata": {},
   "outputs": [],
   "source": []
  },
  {
   "cell_type": "code",
   "execution_count": 17,
   "metadata": {},
   "outputs": [
    {
     "name": "stdout",
     "output_type": "stream",
     "text": [
      "3c:\n",
      "\n"
     ]
    }
   ],
   "source": [
    "print('3c:\\n')"
   ]
  },
  {
   "cell_type": "code",
   "execution_count": 18,
   "metadata": {},
   "outputs": [],
   "source": [
    "def lists_to_dict( list1, list2 ):\n",
    "    \"\"\"Converts two input lists to a dictionary\n",
    "    Input: 2 lists, one should contain the keys but there is no constrain if it is list1 or 2\n",
    "    Output: dictionary with the two lists \"\"\"\n",
    "    \n",
    "    my_returned_dict = {}\n",
    "    \n",
    "     \n",
    "    # test if the two lists are equal in length; give error otherwise:\n",
    "    if len( list1 ) == len( list2 ): \n",
    "        \n",
    "        # find if list1 or 2 has the keywords:\n",
    "    \n",
    "        if ( str( list1[ 0 ] ) == list1[ 0 ] ) & ( str( list2[ 0] ) != list2[ 0 ] ) :\n",
    "            \n",
    "            for j, key in enumerate( list1 ) :        # if list 1 has the keywords use them:\n",
    "               \n",
    "                my_returned_dict[ key ] = list2[ j ]\n",
    "                \n",
    "        elif ( str( list2[ 0] ) == list2[ 0 ] ) & (str( list1[ 0 ] ) != list1[ 0 ]) :\n",
    "            \n",
    "            for j, key in enumerate( list2 ) :       # if list 2 has the keywords use them:\n",
    "                \n",
    "                my_returned_dict[ key ] = list1[ j ]\n",
    "        \n",
    "        elif ( str( list1[ 0 ] ) == list1[ 0 ] )  &  (str( list2[ 0 ] ) == list2[ 0 ] ) :\n",
    "            print( ' Both lists have keywords, please update lists')\n",
    "            \n",
    "        elif ( str( list1[ 0 ] ) != list1[ 0 ] )  &  (str( list2[ 0 ] ) != list2[ 0 ] ) :\n",
    "            print( ' No list has keywords, please update lists')\n",
    "        \n",
    "    else:\n",
    "        print( 'Your lists are not of the same length. Plese give new lists' )\n",
    "    \n",
    "    \n",
    "    return my_returned_dict"
   ]
  },
  {
   "cell_type": "code",
   "execution_count": 19,
   "metadata": {},
   "outputs": [
    {
     "name": "stdout",
     "output_type": "stream",
     "text": [
      "{'watermelon': 1, 'melon': 3, 'apple': 5, 'strawberries': 10, 'cherries': 12, 'oranges': 14}\n"
     ]
    }
   ],
   "source": [
    "List_1 = [ 1, 3, 5, 10, 12, 14]  \n",
    "List_2 = [ 'watermelon', 'melon', 'apple', 'strawberries', 'cherries', 'oranges' ]\n",
    "\n",
    "print( lists_to_dict( List_1, List_2 ) )"
   ]
  },
  {
   "cell_type": "code",
   "execution_count": 20,
   "metadata": {},
   "outputs": [
    {
     "name": "stdout",
     "output_type": "stream",
     "text": [
      "{'cars': 200, 'motorcycles': 150, 'bikes': 10, 'skateboards': 67}\n"
     ]
    }
   ],
   "source": [
    "List_1 = [ 'cars', 'motorcycles', 'bikes', 'skateboards'] \n",
    "List_2 = [ 200, 150, 10, 67 ]\n",
    "\n",
    "print( lists_to_dict( List_1, List_2 ) )"
   ]
  },
  {
   "cell_type": "code",
   "execution_count": null,
   "metadata": {},
   "outputs": [],
   "source": []
  },
  {
   "cell_type": "code",
   "execution_count": 21,
   "metadata": {},
   "outputs": [
    {
     "name": "stdout",
     "output_type": "stream",
     "text": [
      "3d:\n",
      "\n"
     ]
    }
   ],
   "source": [
    "print('3d:\\n')"
   ]
  },
  {
   "cell_type": "code",
   "execution_count": 22,
   "metadata": {},
   "outputs": [],
   "source": [
    "def matrix_mult( A, B ):\n",
    "    \"\"\"Multiplies two matrices.\n",
    "    Input: matrix A and B \n",
    "    Output: A * B \"\"\"\n",
    "    \n",
    "    # check if dimensions make sense:\n",
    "    \n",
    "    q = A.shape\n",
    "    l = B.shape\n",
    "        \n",
    "    if (len( q ) != 1 )  & ( len( l ) != 1 ) :\n",
    "        if q[ 1 ] != l[ 0 ] :\n",
    "            print( 'Sorry matrices are incompatible' )\n",
    "            \n",
    "            return float('NaN')\n",
    "    \n",
    "        else:\n",
    "            Mults = np.zeros( ( q[ 0 ], l [ 1] ) )\n",
    "           \n",
    "            for i in range( q[ 0 ] ):\n",
    "                for j in range( l[1]):\n",
    "                     for k in range( len( B ) ):  \n",
    "                            Mults[ i , j ] += A[i , k] * B[k , j] \n",
    "            return Mults\n",
    "        \n",
    "    if (len( q ) != 1 )  & ( len( l ) == 1 ) :\n",
    "            \n",
    "            Mults = np.zeros( ( q[ 0 ], 1 ) )\n",
    "            \n",
    "            for i in range( q[ 0 ] ):\n",
    "                for j in range( 1 ):\n",
    "                     for k in range( len( B ) ):  \n",
    "                            Mults[ i , j ] += A[i , k] * B[ k] \n",
    "            return Mults\n",
    "        \n",
    "    if (len( q ) == 1 )  & ( len( l ) != 1 ) :\n",
    "            \n",
    "            Mults = np.zeros( (  1, q[ 0 ] ) )\n",
    "            \n",
    "            for i in range( 1 ):\n",
    "                for j in range( l[1] ):\n",
    "                     for k in range( len( B ) ):  \n",
    "                            \n",
    "                            Mults[ i , j ] += A[ k ] * B[ k, j ] \n",
    "            return Mults"
   ]
  },
  {
   "cell_type": "code",
   "execution_count": 23,
   "metadata": {},
   "outputs": [],
   "source": [
    "A1 = np.array( [ [1, 2, 3 ], [4, 5, 6] ]) \n",
    "A2 = np.array( [ [2, 3] , [2 , 2 ] ] )"
   ]
  },
  {
   "cell_type": "code",
   "execution_count": 24,
   "metadata": {},
   "outputs": [
    {
     "name": "stdout",
     "output_type": "stream",
     "text": [
      "Sorry matrices are incompatible\n",
      "nan\n"
     ]
    }
   ],
   "source": [
    "print( matrix_mult( A1, A2 ) )"
   ]
  },
  {
   "cell_type": "code",
   "execution_count": 25,
   "metadata": {},
   "outputs": [
    {
     "ename": "ValueError",
     "evalue": "matmul: Input operand 1 has a mismatch in its core dimension 0, with gufunc signature (n?,k),(k,m?)->(n?,m?) (size 2 is different from 3)",
     "output_type": "error",
     "traceback": [
      "\u001b[0;31m---------------------------------------------------------------------------\u001b[0m",
      "\u001b[0;31mValueError\u001b[0m                                Traceback (most recent call last)",
      "\u001b[0;32m/var/folders/vk/lzczn8j541jbb03xcymwp9640000gn/T/ipykernel_38539/2916306772.py\u001b[0m in \u001b[0;36m<module>\u001b[0;34m\u001b[0m\n\u001b[1;32m      1\u001b[0m \u001b[0;31m# test with matmul:\u001b[0m\u001b[0;34m\u001b[0m\u001b[0;34m\u001b[0m\u001b[0;34m\u001b[0m\u001b[0m\n\u001b[0;32m----> 2\u001b[0;31m \u001b[0mprint\u001b[0m\u001b[0;34m(\u001b[0m \u001b[0mnp\u001b[0m\u001b[0;34m.\u001b[0m\u001b[0mmatmul\u001b[0m\u001b[0;34m(\u001b[0m \u001b[0mA1\u001b[0m\u001b[0;34m,\u001b[0m \u001b[0mA2\u001b[0m \u001b[0;34m)\u001b[0m \u001b[0;34m)\u001b[0m\u001b[0;34m\u001b[0m\u001b[0;34m\u001b[0m\u001b[0m\n\u001b[0m",
      "\u001b[0;31mValueError\u001b[0m: matmul: Input operand 1 has a mismatch in its core dimension 0, with gufunc signature (n?,k),(k,m?)->(n?,m?) (size 2 is different from 3)"
     ]
    }
   ],
   "source": [
    "# test with matmul:\n",
    "print( np.matmul( A1, A2 ) )"
   ]
  },
  {
   "cell_type": "code",
   "execution_count": 26,
   "metadata": {},
   "outputs": [
    {
     "name": "stdout",
     "output_type": "stream",
     "text": [
      "[[4. 1.]\n",
      " [2. 1.]]\n"
     ]
    }
   ],
   "source": [
    "B1 = np.array( [ [1, 0], [0, 1] ])  \n",
    "B2 = np.array( [ [4, 1], [ 2,1 ] ] )\n",
    "\n",
    "print( matrix_mult( B1, B2 ) )"
   ]
  },
  {
   "cell_type": "code",
   "execution_count": 27,
   "metadata": {},
   "outputs": [
    {
     "name": "stdout",
     "output_type": "stream",
     "text": [
      "[[4 1]\n",
      " [2 1]]\n"
     ]
    }
   ],
   "source": [
    "print( np.matmul( B1, B2 ) )"
   ]
  },
  {
   "cell_type": "code",
   "execution_count": 28,
   "metadata": {},
   "outputs": [
    {
     "name": "stdout",
     "output_type": "stream",
     "text": [
      "[[19.]\n",
      " [21.]\n",
      " [49.]]\n"
     ]
    }
   ],
   "source": [
    "C1 = np.array( [ [1, 0, 3], [0, 1, 4], [2, 1 , 8] ]) \n",
    "C2 = np.array( [4, 1 , 5] )\n",
    "\n",
    "print( matrix_mult( C1, C2 ) )"
   ]
  },
  {
   "cell_type": "code",
   "execution_count": 29,
   "metadata": {},
   "outputs": [
    {
     "name": "stdout",
     "output_type": "stream",
     "text": [
      "[19 21 49]\n"
     ]
    }
   ],
   "source": [
    "print( np.matmul( C1, C2 ) )"
   ]
  },
  {
   "cell_type": "code",
   "execution_count": 30,
   "metadata": {},
   "outputs": [
    {
     "name": "stdout",
     "output_type": "stream",
     "text": [
      "[[ 7.  1. 14.]]\n"
     ]
    }
   ],
   "source": [
    "### and a bonus case to make sure all cases are covered; you didn't have to do this:\n",
    "\n",
    "D1 = np.array(  [1, 0, 3] ) \n",
    "D2 = np.array( [ [4, 1 , 5], [1, 0, 3 ], [1, 0, 3 ] ] )\n",
    "\n",
    "print( matrix_mult( D1, D2 ) )\n"
   ]
  },
  {
   "cell_type": "code",
   "execution_count": 31,
   "metadata": {},
   "outputs": [
    {
     "name": "stdout",
     "output_type": "stream",
     "text": [
      "[ 7  1 14]\n"
     ]
    }
   ],
   "source": [
    "print( np.matmul( D1, D2 ) )"
   ]
  },
  {
   "cell_type": "code",
   "execution_count": null,
   "metadata": {},
   "outputs": [],
   "source": []
  }
 ],
 "metadata": {
  "kernelspec": {
   "display_name": "Python 3",
   "language": "python",
   "name": "python3"
  },
  "language_info": {
   "codemirror_mode": {
    "name": "ipython",
    "version": 3
   },
   "file_extension": ".py",
   "mimetype": "text/x-python",
   "name": "python",
   "nbconvert_exporter": "python",
   "pygments_lexer": "ipython3",
   "version": "3.7.6"
  }
 },
 "nbformat": 4,
 "nbformat_minor": 5
}
