{
 "cells": [
  {
   "cell_type": "markdown",
   "id": "420fac39",
   "metadata": {},
   "source": [
    "# Homework 9\n",
    "You can use the space bellow to add all the modules you are importing (e.g., numpy), you can also do it throughtout the notebook, but it's easier to have it all in one place."
   ]
  },
  {
   "cell_type": "code",
   "execution_count": 1,
   "id": "11ceeae8",
   "metadata": {},
   "outputs": [],
   "source": [
    "import numpy as np"
   ]
  },
  {
   "cell_type": "markdown",
   "id": "5b8dda63",
   "metadata": {},
   "source": [
    "## Problem 1 (15 points)\n",
    "In a lab you measured the following data"
   ]
  },
  {
   "cell_type": "code",
   "execution_count": 2,
   "id": "fd5b8891-687f-4c60-9358-fe7564847260",
   "metadata": {},
   "outputs": [],
   "source": [
    "x = np.linspace(1,100,40)\n",
    "y = np.array([7.7, 15.82307692, 23.94615385, 32.06923077, 40.19230769, 48.31538462, 56.43846154, 64.56153846, \n",
    "              72.68461538, 80.80769231, 88.93076923, 97.05384615, 105.17692308, 113.3 , 121.42307692, 129.54615385, \n",
    "              137.66923077, 145.79230769, 153.91538462, 162.03846154, 170.16153846, 178.28461538, 186.40769231, \n",
    "              194.53076923, 202.65384615, 210.77692308, 218.9, 227.02307692, 235.14615385, 243.26923077, \n",
    "              251.39230769, 259.51538462, 267.63846154, 275.76153846, 283.88461538, 292.00769231, 300.13076923, \n",
    "              308.25384615, 316.37692308, 324.5])"
   ]
  },
  {
   "cell_type": "markdown",
   "id": "163a5ef2-86da-49f4-8a8f-867c46a7d5d1",
   "metadata": {},
   "source": [
    "You know (from theory) that the best-fit model for this dataset is a linear function $$y = mx + b$$\n",
    "\n",
    "Create a function **best_fit(x, y)** that takes the x and y arrays and returns the value of m and b (make sure to return them in that order!). You can use any method to fit the linear function to the data, for example, $\\chi^2$, curve_fit, or polyfit, or do it by hand, whatever is easier to you, but be sure that the values make sense!"
   ]
  },
  {
   "cell_type": "code",
   "execution_count": null,
   "id": "6f5dd6d8-d49a-482e-8c59-dc63e076c2f4",
   "metadata": {},
   "outputs": [],
   "source": []
  },
  {
   "cell_type": "markdown",
   "id": "7f618eb3-da2f-40d1-80da-c1241bf36ebe",
   "metadata": {},
   "source": [
    "Now call the function and return it's output to the variables m and b. Print them in an informative statement and plot both the data and the fit and check if the fit is good.\n",
    "\n",
    "### Solution: \n",
    "`The best fit model is:  [3.2]  * x +  [4.5].`"
   ]
  },
  {
   "cell_type": "code",
   "execution_count": null,
   "id": "f027f17e-0301-4e33-b012-5323b818d71f",
   "metadata": {},
   "outputs": [],
   "source": []
  },
  {
   "cell_type": "markdown",
   "id": "6f87d4b4-b30f-4708-8090-de5680691a45",
   "metadata": {},
   "source": [
    "## Problem 2 (35 points)\n",
    "This problem involves working with different functions and data types.\n",
    "### a) (7 points)\n",
    "The wind chill factor indicates how cold it feels on a windy day based on the temperature, and is given by $$WC = 35.74 + 0.6215 \\cdot T - 35.75 \\cdot V ^{0.16} + 0.4275 \\cdot T V ^{0.16}$$ with $T$ in Fahrenheit and $V$ in mph.\n",
    "\n",
    "Create a function **wind_chill(T, V)** that takes as input the temperature on a given day and the wind speed and returs how cold it feels."
   ]
  },
  {
   "cell_type": "code",
   "execution_count": null,
   "id": "2ff79f68-5771-499c-bdd9-64b08bda32da",
   "metadata": {},
   "outputs": [],
   "source": []
  },
  {
   "cell_type": "markdown",
   "id": "9644ef8e-da03-4d32-be29-e2d833d8a745",
   "metadata": {},
   "source": [
    "Call the function for a day with $T = 20~^\\circ$F and $V = 55$ mph and return the output to **wc**. print the result with an informative statement."
   ]
  },
  {
   "cell_type": "markdown",
   "id": "d35b7a1d-22a9-4ab0-88f6-bfefd6c7d17e",
   "metadata": {},
   "source": [
    "### Solution:\n",
    "function returns:\n",
    "\n",
    "`wc = -3.4748397706315757`\n",
    "\n",
    "prints something like:\n",
    "\n",
    "`The wind chill on a day with  20  F and wind of  55  mph is:  -3.4748397706315757 F.`"
   ]
  },
  {
   "cell_type": "code",
   "execution_count": null,
   "id": "7e5d020f-8e8f-4e2a-88f1-6f95c254639c",
   "metadata": {},
   "outputs": [],
   "source": []
  },
  {
   "cell_type": "markdown",
   "id": "3ebd30b4-55b7-447a-8985-2d8814333b43",
   "metadata": {},
   "source": [
    "### b) (8 points)\n",
    "The parallax of a star is defined as the apparent displacement of a star on the sky in the course of a half year due to the Earth’s motion around the Sun. Using simple trigonometry you can show that $$\\pi \\approx \\frac{1}{d}$$ where $\\pi$ is the parallax in arcseconds and $d$ is the distance of the star to the Earth in pc. Create a function **parallax_to_distance(stars)** that takes as input a dictionary with information on stars observed (their name as key, and their parallax as value) and returns a dictionary with the names (as key) of the stars and their distances from Earth in pc. (as value)."
   ]
  },
  {
   "cell_type": "code",
   "execution_count": null,
   "id": "bbabf2c6-9f6e-49fa-95c7-af6b21e9afe4",
   "metadata": {},
   "outputs": [],
   "source": []
  },
  {
   "cell_type": "markdown",
   "id": "7973e8ba-7608-46da-a97c-6605d21d98e4",
   "metadata": {},
   "source": [
    "Create a dictionary **stars** with the following information\n",
    "\n",
    "| Star  | Parallax (in milliarsec)\n",
    "|-------|-----|\n",
    "| Betelgeuse | 7.63  |\n",
    "| Antares   | 5.89  |\n",
    "| Spica | 13.06 |\n",
    "| Proxima Centauri | 768.0  |\n",
    "\n",
    "Call the function for the dictionary stars and return the output to the variable **dist_starts**"
   ]
  },
  {
   "cell_type": "markdown",
   "id": "469ed3ea-26ea-4f5a-ac71-16821f64f018",
   "metadata": {},
   "source": [
    "### Solution:\n",
    "Function returns the dictionary:\n",
    "\n",
    "`{'Betelgeuse': 131.06159895150722, 'Antares': 169.77928692699493, 'Spica': 76.5696784073507, 'Proxima Cen': 1.3020833333333333}`"
   ]
  },
  {
   "cell_type": "markdown",
   "id": "83921659-adde-439a-9e94-84c629858ec4",
   "metadata": {},
   "source": [
    "### c) (10 points)\n",
    "Create a function **lists_to_dict(list_1, list_2)** that takes as input tow lists and combines them in a dictionary (assume that the lists have the same length). The lists could be either containing strings or numbers, but they will be homogeneous, i.e., each list will either have number or strings, but if list_1 has numbers, then list_2 has strings, and vice-versa. Your function should check which of the input lists contains strings, and use that as keywords and use the other list as values. The function should return the dictionary you create with the two lists."
   ]
  },
  {
   "cell_type": "code",
   "execution_count": null,
   "id": "e717ecb4-e6dd-43a0-b146-3a3685f42a9c",
   "metadata": {},
   "outputs": [],
   "source": []
  },
  {
   "cell_type": "markdown",
   "id": "13eab0ac-0131-42bd-8152-6e1c82b56a8b",
   "metadata": {},
   "source": [
    "Call the function for the following pairs:\n",
    " - list_1 = [1, 3, 5, 10, 12, 14] & list_2 = [‘watermelon’, 'melon’, ‘apple’, ‘strawberries’, ‘cherries’, ‘oranges’]\n",
    " - list_1 = [‘cars’, ‘motorcycles’, ‘bikes’, ‘skateboards’] & List_2 = [200, 150, 10, 67]\n",
    "\n",
    "and return the output to the variables **dict1** (for the first pair) and **dict2** (for the second pair)."
   ]
  },
  {
   "cell_type": "markdown",
   "id": "0487fd70-7ee7-4477-b126-52f0915818c5",
   "metadata": {},
   "source": [
    "### Solution:\n",
    "Function returns the dictionary:\n",
    "\n",
    "`{'watermelon': 1, 'melon': 3, 'apple': 5, 'strawberries': 10, 'cherries': 12, 'oranges': 14}`\n",
    "\n",
    "for the first pair.\n",
    "\n",
    "Function returns the dictionary:\n",
    "\n",
    "`{'cars': 200, 'motorcycles': 150, 'bikes': 10, 'skateboards': 67}`\n",
    "\n",
    "for the second pair."
   ]
  },
  {
   "cell_type": "code",
   "execution_count": null,
   "id": "2979b52f-31b9-4be1-b7e2-b7043bc52357",
   "metadata": {},
   "outputs": [],
   "source": []
  },
  {
   "cell_type": "markdown",
   "id": "34990df1-d60c-40bc-8402-a929cc188a5e",
   "metadata": {},
   "source": [
    "### d) (10 points)\n",
    "Make a function **matrix_mult(A, B)** that takes as input two matrices A and B and multiplies them, if possible. The function should first check if the matrices can be multiplied (i.e., their dimensions are compatible). If not, the function should return None (the data type, not a string). If the matrices can be multiplied the function should proceed to do the matrix multiplication (you need to this manually, don’t use numpy functions like matmul!) and return the matrix product of the two matrices."
   ]
  },
  {
   "cell_type": "code",
   "execution_count": null,
   "id": "216ff8c9-6c87-478b-8202-29ff44e154fa",
   "metadata": {},
   "outputs": [],
   "source": []
  },
  {
   "cell_type": "markdown",
   "id": "eced3fac-8f5b-4cce-926e-7fbc8039f7e0",
   "metadata": {},
   "source": [
    "Call the function for the following pairs\n",
    " 1. A1 = np.array([[1, 2, 3], [4, 5, 6]]) & B1 = np.array([[2, 3], [2, 2]])\n",
    " 2. A2 = np.array([[1, 0], [0, 1]]) & B2 = np.array([[4, 1], [2, 1]])\n",
    " 3. A3 = np.array([[1, 0, 3], [0, 1, 4], [2, 1, 8]]) & B3 = np.array([[4], [1], [5]])\n",
    "\n",
    "Return the ouputs to the variables **C1**, **C2**, and **C3** respectively."
   ]
  },
  {
   "cell_type": "markdown",
   "id": "6420ec01-e6c7-4112-835e-1b4952d838a2",
   "metadata": {},
   "source": [
    "### Solution:\n",
    "\n",
    "1. The function returns ` C1 = None` and prints `Sorry, these matrices are incompatible.` to the screen. \n",
    "2. The function returns C2 which is the matrix: $$\\begin{bmatrix}4 & 1  \\\\2 & 1  \\\\\\end{bmatrix}$$\n",
    "3. The function returns C3 which is the matrix: $$\\begin{bmatrix}19  \\\\21 \\\\ 49  \\\\\\end{bmatrix}$$"
   ]
  },
  {
   "cell_type": "code",
   "execution_count": null,
   "id": "e1e4e475-d404-4398-8fab-7404474c90b0",
   "metadata": {},
   "outputs": [],
   "source": []
  },
  {
   "cell_type": "markdown",
   "id": "6b7a043c",
   "metadata": {},
   "source": [
    "# Log goes here $\\downarrow$ (Make sure that you change the cell to be a markdown cell!!!)"
   ]
  },
  {
   "cell_type": "code",
   "execution_count": null,
   "id": "7bece6b9",
   "metadata": {},
   "outputs": [],
   "source": []
  }
 ],
 "metadata": {
  "kernelspec": {
   "display_name": "Python 3 (ipykernel)",
   "language": "python",
   "name": "python3"
  },
  "language_info": {
   "codemirror_mode": {
    "name": "ipython",
    "version": 3
   },
   "file_extension": ".py",
   "mimetype": "text/x-python",
   "name": "python",
   "nbconvert_exporter": "python",
   "pygments_lexer": "ipython3",
   "version": "3.11.5"
  }
 },
 "nbformat": 4,
 "nbformat_minor": 5
}
