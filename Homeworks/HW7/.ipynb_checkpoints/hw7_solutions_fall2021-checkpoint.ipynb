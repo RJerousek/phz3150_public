{
 "cells": [
  {
   "cell_type": "code",
   "execution_count": null,
   "metadata": {},
   "outputs": [],
   "source": [
    "# Homework 7 - PHZ3150 "
   ]
  },
  {
   "cell_type": "code",
   "execution_count": 2,
   "metadata": {},
   "outputs": [],
   "source": [
    "import numpy as np"
   ]
  },
  {
   "cell_type": "markdown",
   "metadata": {},
   "source": [
    "#### Create a function word_to_number that takes as input an English word that corresponds to a number from 0 to 20 (‘zero’, ‘one’, ‘two’etc) and returns the corresponding number (0, 1, etc). Insidethe function create a dictionary that maps every appropriate English word to the corresponding number (so 1 will be mapped to‘one’). The keys should be your words and the values the number. Remember to write an appropriate docstring for your function! In the main program call the function for: ‘three’, ‘seven’, ‘twelve’, ‘sixteen’and ‘nineteen’and print an informative statements with your results (e.g., “‘three’is 3“)."
   ]
  },
  {
   "cell_type": "code",
   "execution_count": 3,
   "metadata": {},
   "outputs": [
    {
     "name": "stdout",
     "output_type": "stream",
     "text": [
      "Problem 2: \n",
      "\n"
     ]
    }
   ],
   "source": [
    "print( 'Problem 2: \\n')"
   ]
  },
  {
   "cell_type": "code",
   "execution_count": 4,
   "metadata": {},
   "outputs": [],
   "source": [
    "def word_to_number(your_number):\n",
    "    \"\"\"Takes an english numerical word and gives you the corresponding number (1-20).\n",
    "    Input: english name of number\n",
    "    Output: number \"\"\"\n",
    "    \n",
    "    word_to_num={}\n",
    "    \n",
    "    word_to_num['one']   = 1\n",
    "    word_to_num['two']   = 2\n",
    "    word_to_num['three'] = 3\n",
    "    word_to_num['four']  = 4\n",
    "    word_to_num['five']  = 5\n",
    "    word_to_num['six']   = 6\n",
    "    word_to_num['seven'] = 7\n",
    "    word_to_num['eight'] = 8\n",
    "    word_to_num['nine']  = 9\n",
    "    word_to_num['ten']   = 10\n",
    "    word_to_num['eleven']    = 11\n",
    "    word_to_num['twelve']    = 12\n",
    "    word_to_num['thirteen']  = 13\n",
    "    word_to_num['fourteen']  = 14\n",
    "    word_to_num['fifteen']   = 15\n",
    "    word_to_num['sixteen']   = 16\n",
    "    word_to_num['seventeen'] = 17\n",
    "    word_to_num['eightteen'] = 18\n",
    "    word_to_num['nineteen']  = 19\n",
    "    word_to_num['twenty']    = 20\n",
    "    \n",
    "    return word_to_num[ your_number ]"
   ]
  },
  {
   "cell_type": "code",
   "execution_count": 5,
   "metadata": {},
   "outputs": [
    {
     "name": "stdout",
     "output_type": "stream",
     "text": [
      "Three is: 3\n",
      "Seven is: 7\n",
      "Twelve is: 12\n",
      "Sixteen is: 16\n",
      "Nineteen is: 19\n"
     ]
    }
   ],
   "source": [
    "print( 'Three is:', word_to_number( 'three' ) )\n",
    "print( 'Seven is:', word_to_number( 'seven' ) )\n",
    "print( 'Twelve is:', word_to_number( 'twelve' ) )\n",
    "print( 'Sixteen is:', word_to_number( 'sixteen' ) )\n",
    "print( 'Nineteen is:', word_to_number( 'nineteen' ) )"
   ]
  },
  {
   "cell_type": "code",
   "execution_count": null,
   "metadata": {},
   "outputs": [],
   "source": []
  },
  {
   "cell_type": "markdown",
   "metadata": {},
   "source": [
    "### 3. Make a code that splits the sentence: “Deleting an item from a list or array while iterating over it is a Python problem that is well known to any experienced software developer” in the words it’s made of. Then use a FOR loop to loop over the full sentence, and print -at the end -only the longestword of the sentence.  Do the same program, but now looping over the sentence with a WHILE loop."
   ]
  },
  {
   "cell_type": "code",
   "execution_count": 6,
   "metadata": {},
   "outputs": [
    {
     "name": "stdout",
     "output_type": "stream",
     "text": [
      "Problem 3: \n",
      "\n"
     ]
    }
   ],
   "source": [
    "print( 'Problem 3: \\n')"
   ]
  },
  {
   "cell_type": "code",
   "execution_count": 7,
   "metadata": {},
   "outputs": [
    {
     "name": "stdout",
     "output_type": "stream",
     "text": [
      "The longest word is:  experienced\n",
      "\n",
      " now do it with a while loop:\n",
      "\n",
      "The longest word is:  experienced\n"
     ]
    }
   ],
   "source": [
    "stri= \"\"\"Deleting an item from a list or array while iterating over it is a \n",
    "Python problem that is well known to any experienced software developer\"\"\"\n",
    "\n",
    "#split the string in its parts:\n",
    "st = stri.split()\n",
    "\n",
    "#start by assuming that the longest word is the first one:\n",
    "longest_word = st[ 0 ]\n",
    "\n",
    "#check every word after that; if longer than the current longest word update else move to next word:\n",
    "for i in range( len( st ) ):\n",
    "    if len( st[ i ] ) > len( longest_word ):\n",
    "        longest_word = st[ i ]\n",
    "        \n",
    "print ( 'The longest word is: ', longest_word )\n",
    "\n",
    "#do the same as above, but now with a while loop:\n",
    "print('\\n now do it with a while loop:\\n')\n",
    "longest_word = st[ 0 ]\n",
    "\n",
    "i = 0 \n",
    "\n",
    "while i < len(st):\n",
    "    if len( st[ i ] ) > len( longest_word ):\n",
    "        longest_word = st[ i ]\n",
    "    i += 1\n",
    "print ( 'The longest word is: ', longest_word )\n",
    "\n",
    "\n",
    "\n"
   ]
  },
  {
   "cell_type": "code",
   "execution_count": null,
   "metadata": {},
   "outputs": [],
   "source": []
  },
  {
   "cell_type": "markdown",
   "metadata": {},
   "source": [
    "### 4. Create an array x that goes from 100 to 1,000 in steps of 25. Create an array y that is equal in size to x but full of zeros. Create a FOR loop that scans through y and assigns y[i] a value equal to x[i]/2 IF i is an even number, or x[i]**2 IF i is an odd number. "
   ]
  },
  {
   "cell_type": "code",
   "execution_count": 8,
   "metadata": {},
   "outputs": [
    {
     "name": "stdout",
     "output_type": "stream",
     "text": [
      "Problem 4: \n",
      "\n"
     ]
    }
   ],
   "source": [
    "print( 'Problem 4: \\n')"
   ]
  },
  {
   "cell_type": "code",
   "execution_count": 41,
   "metadata": {},
   "outputs": [],
   "source": [
    "x = np.arange( 100, 1000, 25 )\n",
    "y = np.zeros( len( x ) )\n",
    "\n",
    "for i in range( len( x ) ):\n",
    "    if i%2 == 0:\n",
    "        y[ i ] = x[ i ] / 2\n",
    "    if i%2 == 1:\n",
    "        y[ i ] = x[ i ]**2"
   ]
  },
  {
   "cell_type": "code",
   "execution_count": 42,
   "metadata": {},
   "outputs": [
    {
     "data": {
      "text/plain": [
       "array([5.00000e+01, 1.56250e+04, 7.50000e+01, 3.06250e+04, 1.00000e+02,\n",
       "       5.06250e+04, 1.25000e+02, 7.56250e+04, 1.50000e+02, 1.05625e+05,\n",
       "       1.75000e+02, 1.40625e+05, 2.00000e+02, 1.80625e+05, 2.25000e+02,\n",
       "       2.25625e+05, 2.50000e+02, 2.75625e+05, 2.75000e+02, 3.30625e+05,\n",
       "       3.00000e+02, 3.90625e+05, 3.25000e+02, 4.55625e+05, 3.50000e+02,\n",
       "       5.25625e+05, 3.75000e+02, 6.00625e+05, 4.00000e+02, 6.80625e+05,\n",
       "       4.25000e+02, 7.65625e+05, 4.50000e+02, 8.55625e+05, 4.75000e+02,\n",
       "       9.50625e+05])"
      ]
     },
     "execution_count": 42,
     "metadata": {},
     "output_type": "execute_result"
    }
   ],
   "source": [
    "y"
   ]
  },
  {
   "cell_type": "code",
   "execution_count": 31,
   "metadata": {},
   "outputs": [],
   "source": [
    "#or \n",
    "for i in range( len( x ) ):\n",
    "    if i%2 == 0:\n",
    "        y[ i ] = x[ i ] / 2\n",
    "    else:\n",
    "        y[ i ] = x[ i ]**2"
   ]
  },
  {
   "cell_type": "code",
   "execution_count": 33,
   "metadata": {},
   "outputs": [],
   "source": [
    "x = np.arange( 100, 1000, 25 )\n",
    "y = np.zeros( len( x ) )\n",
    "\n",
    "for i in range( len( x ) ):\n",
    "    if x[i]%2 == 0:\n",
    "        y[ i ] = x[ i ] / 2\n",
    "    if x[i]%2 == 1:\n",
    "        y[ i ] = x[ i ]**2"
   ]
  },
  {
   "cell_type": "code",
   "execution_count": 37,
   "metadata": {},
   "outputs": [],
   "source": [
    "x = np.arange(100 , 1025, 25)\n",
    "y = np.zeros(len(x))\n",
    "\n",
    "y = x/2\n",
    "\n",
    "for i in range( len(y)):\n",
    "    \n",
    "    if i % 2 == 1 :\n",
    "        y[i] = x[i]**2"
   ]
  },
  {
   "cell_type": "code",
   "execution_count": 40,
   "metadata": {},
   "outputs": [
    {
     "data": {
      "text/plain": [
       "[<matplotlib.lines.Line2D at 0x7f97ef992e48>]"
      ]
     },
     "execution_count": 40,
     "metadata": {},
     "output_type": "execute_result"
    },
    {
     "data": {
      "image/png": "[encoded data removed]",
      "text/plain": [
       "<Figure size 432x288 with 1 Axes>"
      ]
     },
     "metadata": {
      "needs_background": "light"
     },
     "output_type": "display_data"
    }
   ],
   "source": [
    "#just for checking let's visualize this (you didn't need to):\n",
    "import matplotlib.pyplot as plt\n",
    "\n",
    "plt.plot( x , y , marker = 'o', linestyle = 'none')\n"
   ]
  },
  {
   "cell_type": "code",
   "execution_count": null,
   "metadata": {},
   "outputs": [],
   "source": []
  },
  {
   "cell_type": "markdown",
   "metadata": {},
   "source": [
    "### 5. Get file ’student_data.csv’ from the homework folder in Webcourses.The file contains a 10 by 10 table: column 0 is the ID of the student (20191to201910), columns 1 to 5 are the grade the student got for each homework assignment, columns 6 to 8 are the grades they got for quizzes and column 9 the grade they got for the final exam. Read the data into a list or numpy array named all_grades.\n",
    "\n",
    "### Make a function pass_or_no_pass(grades) that gets as input the all_grades and calculates the final grade of a student. To do this you need to take into account that their final grade is calculated with: 60%the final exam grade, 15% the quizzes grade and 25% the homeworkgrade. The function should return a *tuple* with: the student ID, their final grade in a scale of 0-100% and a ‘pass’(if grade is > 60%) or ‘no pass’(if grade is < 60%) (so,e.g.,(21115, 75, ‘pass) ). Call the function for all students and print your results.Remember that the function should include an informative docstring!"
   ]
  },
  {
   "cell_type": "code",
   "execution_count": 28,
   "metadata": {},
   "outputs": [],
   "source": [
    "import csv \n",
    "\n",
    "#Read the datafile \n",
    "with open('../all_data/student_data.csv') as f:\n",
    "    student_grades = list(csv.reader(f))\n",
    "\n"
   ]
  },
  {
   "cell_type": "code",
   "execution_count": null,
   "metadata": {},
   "outputs": [],
   "source": []
  },
  {
   "cell_type": "code",
   "execution_count": 20,
   "metadata": {},
   "outputs": [],
   "source": [
    "def pass_or_no_pass(grades):\n",
    "    \"\"\"Calculates the final grade (Pass/No Pass) for a student taking into account \n",
    "    that their final grade is 60% their project grade; 15% their quiz grade and 25%\n",
    "    their homework grade.\n",
    "    \n",
    "    Input: HW grades [1-5]; quizzes grades [6-8]; final exam grade [9]\n",
    "    Output: tuple (ID, final grade, P/NP)\"\"\"\n",
    "    \n",
    "    ID  = grades[0] \n",
    "    grd = float( grades[8] )* 0.6 + np.mean( [float(grades[5]), float(grades[6]), float(grades[7])]) *0.15 \\\n",
    "          + np.mean([float(grades[1]), float(grades[2]), float(grades[3]), float(grades[4])]) *0.25\n",
    "    \n",
    "    if grd > 60:\n",
    "        pnp = 'Pass'\n",
    "    else:\n",
    "        pnp = 'No Pass'\n",
    "        \n",
    "    return ( ID, grd, pnp ) "
   ]
  },
  {
   "cell_type": "code",
   "execution_count": 29,
   "metadata": {},
   "outputs": [
    {
     "name": "stdout",
     "output_type": "stream",
     "text": [
      "Student 20191 got a grade of: 79.3375 and a Pass\n",
      "Student 20192 got a grade of: 76.4625 and a Pass\n",
      "Student 20193 got a grade of: 91.685 and a Pass\n",
      "Student 20194 got a grade of: 27.0375 and a No Pass\n",
      "Student 20195 got a grade of: 55.95 and a No Pass\n",
      "Student 20196 got a grade of: 79.8875 and a Pass\n",
      "Student 20197 got a grade of: 86.375 and a Pass\n",
      "Student 20198 got a grade of: 93.475 and a Pass\n",
      "Student 20199 got a grade of: 67.7 and a Pass\n",
      "Student 201910 got a grade of: 59.662499999999994 and a No Pass\n"
     ]
    }
   ],
   "source": [
    "# Call the function to get the wanted tuple with ID/grade/Pass no Pass for each student:\n",
    "for i in range(10):\n",
    "    a = pass_or_no_pass(student_grades[i][0:9])\n",
    "    print('Student',a[0], 'got a grade of:', a[1], 'and a', a[2] )\n",
    "## IF you got an error here because of the bug : 98.0. in the one before last student's grade and \n",
    "## you didn't fix it that's OK"
   ]
  },
  {
   "cell_type": "code",
   "execution_count": null,
   "metadata": {},
   "outputs": [],
   "source": []
  }
 ],
 "metadata": {
  "kernelspec": {
   "display_name": "Python 3",
   "language": "python",
   "name": "python3"
  },
  "language_info": {
   "codemirror_mode": {
    "name": "ipython",
    "version": 3
   },
   "file_extension": ".py",
   "mimetype": "text/x-python",
   "name": "python",
   "nbconvert_exporter": "python",
   "pygments_lexer": "ipython3",
   "version": "3.7.6"
  }
 },
 "nbformat": 4,
 "nbformat_minor": 2
}
