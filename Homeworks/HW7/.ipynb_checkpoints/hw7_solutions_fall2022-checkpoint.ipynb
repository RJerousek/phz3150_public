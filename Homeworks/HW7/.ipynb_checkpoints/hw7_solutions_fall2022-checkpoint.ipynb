{
 "cells": [
  {
   "cell_type": "code",
   "execution_count": 23,
   "metadata": {},
   "outputs": [],
   "source": [
    "import numpy as np\n",
    "import matplotlib.pyplot as plt"
   ]
  },
  {
   "cell_type": "markdown",
   "metadata": {},
   "source": [
    "### 2. Code a program that scans the sentence: “Deleting an item from a list or array while iterating over it is a Python problem that is well known to any experienced software developer” and prints out the words it’s made of. <br>Then, use a for loop to loop over the full sentence, and print - at the end - only the longest word of the sentence.  Do the same program, but now looping over the sentence with a while loop. <br> Create a program that scans only the first 6 words (so “\"Deleting an item from a list”) and prints only the UNIQUE letters in this sentence. \n"
   ]
  },
  {
   "cell_type": "code",
   "execution_count": 24,
   "metadata": {},
   "outputs": [
    {
     "name": "stdout",
     "output_type": "stream",
     "text": [
      "Problem 2:\n",
      "\n",
      "The longest word is:  experienced\n"
     ]
    }
   ],
   "source": [
    "print('Problem 2:\\n')\n",
    "\n",
    "stri= \"\"\"Deleting an item from a list or array while iterating over it is a \n",
    "Python problem that is well known to any experienced software developer\"\"\"\n",
    "\n",
    "#split the string in its parts:\n",
    "st = stri.split()\n",
    "\n",
    "#start by assuming that the longest word is the first one:\n",
    "longest_word = st[ 0 ]\n",
    "#check every word after that; if longer than the current longest word update else move to next word:\n",
    "for i in range( len( st ) ):\n",
    "    if len( st[ i ] ) > len( longest_word ):\n",
    "        longest_word = st[ i ]\n",
    "        \n",
    "print ( 'The longest word is: ', longest_word )\n"
   ]
  },
  {
   "cell_type": "code",
   "execution_count": 25,
   "metadata": {},
   "outputs": [
    {
     "name": "stdout",
     "output_type": "stream",
     "text": [
      "The longest word is:  experienced\n"
     ]
    }
   ],
   "source": [
    "#or:\n",
    "longest_word = st[ 0 ]\n",
    "for word in st:\n",
    "    if len( word ) > len( longest_word ):\n",
    "        longest_word = word\n",
    "        \n",
    "print( 'The longest word is: ', longest_word  )\n"
   ]
  },
  {
   "cell_type": "code",
   "execution_count": 29,
   "metadata": {},
   "outputs": [
    {
     "name": "stdout",
     "output_type": "stream",
     "text": [
      "\n",
      " now do it with a while loop:\n",
      "\n",
      "The longest word is:  experienced\n"
     ]
    }
   ],
   "source": [
    "#do the same as above, but now with a while loop:\n",
    "print('\\n now do it with a while loop:\\n')\n",
    "longest_word = st[ 0 ]\n",
    "i = 0 \n",
    "while i < len(st):\n",
    "    if len( st[ i ] ) > len( longest_word ):\n",
    "        longest_word = st[ i ]\n",
    "    i += 1\n",
    "print ( 'The longest word is: ', longest_word )\n"
   ]
  },
  {
   "cell_type": "code",
   "execution_count": 30,
   "metadata": {},
   "outputs": [
    {
     "name": "stdout",
     "output_type": "stream",
     "text": [
      "\n",
      " method 1:\n",
      "\n",
      "D\n",
      "g\n",
      "f\n",
      "r\n",
      "o\n",
      "s\n",
      "\n",
      " method 2:\n",
      "\n",
      "D\n",
      "g\n",
      "f\n",
      "r\n",
      "o\n",
      "s\n",
      "\n",
      " method 3:\n",
      "\n",
      "{'D': 1, 'e': 3, 'l': 2, 't': 3, 'i': 3, 'n': 2, 'g': 1, 'a': 2, 'm': 2, 'f': 1, 'r': 1, 'o': 1, 's': 1}\n",
      "D\n",
      "g\n",
      "f\n",
      "r\n",
      "o\n",
      "s\n"
     ]
    }
   ],
   "source": [
    "#scans only the first 6 words (so “\"Deleting an item from a list”) and prints only the UNIQUE letters in this sentence\n",
    "scan_me = str( st[0]+st[1]+st[2]+st[3]+st[4] +st[5] )\n",
    "\n",
    "print('\\n method 1:\\n')\n",
    "\n",
    "for i in scan_me:\n",
    "    if scan_me.count(i) == 1:\n",
    "        print(i)\n",
    "\n",
    "#2nd method:\n",
    "print('\\n method 2:\\n')\n",
    "\n",
    "from collections import Counter \n",
    "\n",
    "res = Counter(scan_me)\n",
    "for i,j in res.items():\n",
    "    if j == 1 :\n",
    "        print(i)\n",
    "\n",
    "\n",
    "#3rd method:\n",
    "\n",
    "print('\\n method 3:\\n')\n",
    "all_freq = {} \n",
    "\n",
    "for i in scan_me: \n",
    "    if i in all_freq: \n",
    "        all_freq[i] += 1\n",
    "    else: \n",
    "        all_freq[i] = 1\n",
    "# print( all_freq )           \n",
    "for i,j in all_freq.items():\n",
    "    if j == 1 :\n",
    "        print(i)\n",
    "\n",
    "\n",
    "        "
   ]
  },
  {
   "cell_type": "code",
   "execution_count": 33,
   "metadata": {},
   "outputs": [
    {
     "name": "stdout",
     "output_type": "stream",
     "text": [
      "\n",
      " method 4:\n",
      "\n",
      "D\n",
      "g\n",
      "f\n",
      "r\n",
      "o\n",
      "s\n"
     ]
    }
   ],
   "source": [
    "print('\\n method 4:\\n')\n",
    "\n",
    "for i in range( len(scan_me)):\n",
    "    if scan_me[i] not in scan_me[ :i]+scan_me[ i+1:]:\n",
    "        print(scan_me[i])"
   ]
  },
  {
   "cell_type": "code",
   "execution_count": null,
   "metadata": {},
   "outputs": [],
   "source": []
  },
  {
   "cell_type": "markdown",
   "metadata": {},
   "source": [
    "### 3. Open a text file and name it hw7_support_funct.py . Do not write the function on the Jupyter notebook you may be using, as it will store the function in its memory and you may think that you imported from the .py file when you didn’t. If you chose to test the code on the Jupyter notebook, use a different name for your function in the two locations so that you can separate the two.\n",
    "\n",
    "### In the hw7_support_funct.py create a function circle(x,x0,y0,r) that takes as input an array x, the coordinates of the center of the circle (x0,y0) and a radius r and return all y coordinates of the circle with radius r. Remember that a circle follows the: $(x-x0)^2+(y-y0)^2 = r^2$.  Write an appropriate informative docstring. <br> Go in your main homework file and import the function circle. Call it for (x0,y0)= (2,2), x = - 8.+0.1*np.arange(220) and r =10, and use the y coordinates to plot the circle (if you get only half a circle, why is that? Explain and fix your function to return both values).  \n"
   ]
  },
  {
   "cell_type": "code",
   "execution_count": 7,
   "metadata": {},
   "outputs": [],
   "source": [
    "# in hw7_support_funct.py we store this:\n",
    "\n",
    "def circle_coord(x,x0,y0,r):\n",
    "    \"\"\"Returns the coordinates of a circle. \n",
    "    Input: array of x coordinates, center of circle (x0,y0), radius of circle\n",
    "    Output: array of y coordinates of circle \"\"\"\n",
    "\n",
    "    #from equation of circle we know that (x-x0)^2 + (y-y0)^ 2 = r^2\n",
    "    \n",
    "    rt = np.sqrt(r**2-(x-x0)**2) \n",
    "    y = y0 + rt       # get both the +\n",
    "    y2 = y0 - rt      # and the - y \n",
    "    \n",
    "    return (y,y2)"
   ]
  },
  {
   "cell_type": "code",
   "execution_count": 10,
   "metadata": {},
   "outputs": [],
   "source": [
    "# we then use from _____ import ____ to import it:\n",
    "from hw7_support import circle_coord\n",
    "\n",
    "print(circle_coord.__doc__)\n"
   ]
  },
  {
   "cell_type": "code",
   "execution_count": 11,
   "metadata": {},
   "outputs": [
    {
     "name": "stdout",
     "output_type": "stream",
     "text": [
      "Problem 3: \n",
      "\n"
     ]
    }
   ],
   "source": [
    "print( 'Problem 3: \\n')\n",
    "# get the coordinates of center of circle and its radius\n",
    "x0,y0 = 2,2 \n",
    "x = -80. + np.arange( 220 )\n",
    "x = x / 10.\n",
    "rad = 10."
   ]
  },
  {
   "cell_type": "code",
   "execution_count": 12,
   "metadata": {},
   "outputs": [
    {
     "name": "stderr",
     "output_type": "stream",
     "text": [
      "/Users/theodora_karalidi/anaconda3/lib/python3.7/site-packages/ipykernel_launcher.py:10: RuntimeWarning: invalid value encountered in sqrt\n",
      "  # Remove the CWD from sys.path while we load stuff.\n"
     ]
    },
    {
     "data": {
      "text/plain": [
       "(array([-10. ,  -7.5,  -5. ,  -2.5,   0. ,   2.5,   5. ,   7.5,  10. ,\n",
       "         12.5,  15. ]),\n",
       " [Text(0, 0, ''),\n",
       "  Text(0, 0, ''),\n",
       "  Text(0, 0, ''),\n",
       "  Text(0, 0, ''),\n",
       "  Text(0, 0, ''),\n",
       "  Text(0, 0, ''),\n",
       "  Text(0, 0, ''),\n",
       "  Text(0, 0, ''),\n",
       "  Text(0, 0, ''),\n",
       "  Text(0, 0, ''),\n",
       "  Text(0, 0, '')])"
      ]
     },
     "execution_count": 12,
     "metadata": {},
     "output_type": "execute_result"
    },
    {
     "data": {
      "image/png": "[encoded data removed]",
      "text/plain": [
       "<Figure size 504x504 with 1 Axes>"
      ]
     },
     "metadata": {
      "needs_background": "light"
     },
     "output_type": "display_data"
    }
   ],
   "source": [
    "#plot the circle:\n",
    "plt.figure(figsize = ( 7,7 ) )\n",
    "plt.plot( ( x, x ), circle_coord( x, 2, 2,rad ), marker='o', linestyle = 'none', color = 'red')\n",
    "plt.xlabel( 'X', fontsize = 32 )\n",
    "plt.ylabel( 'Y', fontsize = 32 )\n",
    "plt.xticks( np.arange(-7.5, 14.5, 5), fontsize = 32 )\n",
    "plt.yticks( fontsize = 32 )"
   ]
  },
  {
   "cell_type": "code",
   "execution_count": null,
   "metadata": {},
   "outputs": [],
   "source": []
  },
  {
   "cell_type": "markdown",
   "metadata": {},
   "source": [
    "### 4. In the hw7_support_funct.py create a function order_array(input_array) that takes as input an array of numbers and orders them from smaller to larger (don’t use any predefined function -numpy or otherwise- though!). Write an appropriate and informative docstring.  Save it in your hw7_support_funct.py. Import the function in the main homework folder and call it for the array: np.array([4,5,2,10,42,22,8,12]). Now use the appropriate numpy function to test your results.\n",
    "\n"
   ]
  },
  {
   "cell_type": "code",
   "execution_count": 11,
   "metadata": {},
   "outputs": [
    {
     "name": "stdout",
     "output_type": "stream",
     "text": [
      "Problem 4:\n",
      "\n"
     ]
    }
   ],
   "source": [
    "print('Problem 4:\\n')\n"
   ]
  },
  {
   "cell_type": "code",
   "execution_count": 13,
   "metadata": {},
   "outputs": [],
   "source": [
    "#in the hw7_support_funct.py we store this:\n",
    "\n",
    "def ord_array(random_array):\n",
    "    \"\"\"Function that will get a random array and return it ordered from smaller to larger number.\n",
    "    Input: random array\n",
    "    Output: ordered array/ \"\"\"\n",
    "    \n",
    "    \n",
    "    #set array with n[0] = random_array[0]\n",
    "    n = np.zeros( len( random_array ) )\n",
    "    \n",
    "    \n",
    "    #scan through all elements of array if i < max put it to the right, if in between s.w. move elements around\n",
    "    for i in range( len( random_array ) ):\n",
    "        \n",
    "        if random_array[i] > np.max(n):\n",
    "             n[ np.min( np.where( n == 0. ) ) ] = random_array[ i ]\n",
    "        else:\n",
    "            if random_array[ i ] < np.min( n[ np.where(n > 0.) ] ):\n",
    "                n[ 1:i+1 ] = n[ 0:i ]\n",
    "                n[ 0 ]     = random_array[ i ]\n",
    "            else: \n",
    "                for j in range( len( n[ n>0 ] ) ):\n",
    "                    if ( ( random_array[ i ] > n[ j-1 ] ) & ( random_array[ i ] < n[ j ] ) ):\n",
    "                        n[ 0:j ] = n[ 0:j ]  #can ommit this; but I add it for clarity\n",
    "                        n[ j + 1:np.min(np.where(n == 0.))+1 ] = n[ j:np.min( np.where(n == 0.) ) ]\n",
    "                        n[ j ] = random_array[ i ] \n",
    "    return n"
   ]
  },
  {
   "cell_type": "code",
   "execution_count": null,
   "metadata": {},
   "outputs": [],
   "source": [
    "#then we import it with:\n",
    "from hw7_support import ord_array"
   ]
  },
  {
   "cell_type": "code",
   "execution_count": 14,
   "metadata": {},
   "outputs": [
    {
     "name": "stdout",
     "output_type": "stream",
     "text": [
      "[ 2.  4.  5.  8. 10. 12. 22. 42.]\n"
     ]
    }
   ],
   "source": [
    "my_array = np.array( [ 4,5,2,10,42,22,8,12 ] )\n",
    "\n",
    "print( ord_array( my_array ) )"
   ]
  },
  {
   "cell_type": "code",
   "execution_count": null,
   "metadata": {},
   "outputs": [],
   "source": []
  },
  {
   "cell_type": "markdown",
   "metadata": {},
   "source": [
    "### 5. You are given array my_data = np.arange( 1, 26 ).reshape( (5, 5) ).  Access and print the numbers 4 9 14 19 24. Scan my_data with a for/if structure and find the maximum. Calculate the mean of the my_data using a for/if. How could you get the maximum and mean, much faster?"
   ]
  },
  {
   "cell_type": "code",
   "execution_count": 15,
   "metadata": {},
   "outputs": [],
   "source": [
    "my_data = np.arange( 1, 26 ).reshape( (5, 5) )"
   ]
  },
  {
   "cell_type": "code",
   "execution_count": 16,
   "metadata": {},
   "outputs": [
    {
     "name": "stdout",
     "output_type": "stream",
     "text": [
      "[[ 1  2  3  4  5]\n",
      " [ 6  7  8  9 10]\n",
      " [11 12 13 14 15]\n",
      " [16 17 18 19 20]\n",
      " [21 22 23 24 25]]\n"
     ]
    }
   ],
   "source": [
    "print( my_data )"
   ]
  },
  {
   "cell_type": "code",
   "execution_count": 17,
   "metadata": {},
   "outputs": [
    {
     "name": "stdout",
     "output_type": "stream",
     "text": [
      "[ 4  9 14 19 24]\n"
     ]
    }
   ],
   "source": [
    "# we need to print all lines of column 3:\n",
    "print( my_data[ :, 3 ] )"
   ]
  },
  {
   "cell_type": "code",
   "execution_count": 21,
   "metadata": {},
   "outputs": [
    {
     "name": "stdout",
     "output_type": "stream",
     "text": [
      "The max of the array is:  25\n",
      "The max of the array is:  25\n"
     ]
    }
   ],
   "source": [
    "#find the maximum:\n",
    "\n",
    "#start assuing that the max is 0 or the first element:\n",
    "max_element = my_data[ 0, 0 ]\n",
    "\n",
    "#loop through all lines and columns:\n",
    "for line in range( 5 ):\n",
    "    for column in range( 5 ):\n",
    "        # if a given element is larger than the max, replace max:\n",
    "        if my_data[ line, column ] > max_element:\n",
    "            max_element = my_data[ line, column ]\n",
    "\n",
    "#print max:\n",
    "\n",
    "print( 'The max of the array is: ', max_element )\n",
    "\n",
    "#much faster:\n",
    "\n",
    "print(  'The max of the array is: ', np.max( my_data ))"
   ]
  },
  {
   "cell_type": "code",
   "execution_count": 22,
   "metadata": {},
   "outputs": [
    {
     "name": "stdout",
     "output_type": "stream",
     "text": [
      "The mean of the array is:  13.0\n",
      "The mean of the array is:  13.0\n"
     ]
    }
   ],
   "source": [
    "#mean == total sum/ number of elements\n",
    "\n",
    "#start with a variable where we keep the sum and a counter for the elements:\n",
    "elements     = 0\n",
    "sum_elements = 0\n",
    "\n",
    "#loop through all lines and columns:\n",
    "for line in range( 5 ):\n",
    "    for column in range( 5 ):\n",
    "        sum_elements = sum_elements + my_data[ line, column ]   # += my_data[ line, column ]\n",
    "        elements     = elements + 1                             # += 1\n",
    "\n",
    "\n",
    "print( 'The mean of the array is: ', sum_elements/ elements )\n",
    "\n",
    "#much faster:\n",
    "print( 'The mean of the array is: ', np.mean( my_data ) )"
   ]
  },
  {
   "cell_type": "code",
   "execution_count": null,
   "metadata": {},
   "outputs": [],
   "source": []
  },
  {
   "cell_type": "markdown",
   "metadata": {},
   "source": [
    "### Bonus 6. Code a program that will print the following 1-0 pyramid. \n",
    "<img src=\"../plots/pyramid_01.png\" width=150 height=150 />"
   ]
  },
  {
   "cell_type": "code",
   "execution_count": 1,
   "metadata": {},
   "outputs": [
    {
     "name": "stdout",
     "output_type": "stream",
     "text": [
      "Bonus problem 5:\n",
      "\n",
      "\n",
      "1\n",
      "10\n",
      "101\n",
      "1010\n",
      "10101\n",
      "101010\n",
      "10101\n",
      "1010\n",
      "101\n",
      "10\n",
      "1\n"
     ]
    }
   ],
   "source": [
    "print('Bonus problem 6:\\n')\n",
    "\n",
    "max_array = '101010'\n",
    "\n",
    "j = 1\n",
    "\n",
    "for i in range( 12 ):\n",
    "    if i <= 6:\n",
    "        print( max_array[ : i ] )\n",
    "    else:\n",
    "        print( max_array[ : 6 - i  ] )\n",
    "        j += 1 "
   ]
  },
  {
   "cell_type": "code",
   "execution_count": null,
   "metadata": {},
   "outputs": [],
   "source": []
  },
  {
   "cell_type": "code",
   "execution_count": null,
   "metadata": {},
   "outputs": [],
   "source": []
  }
 ],
 "metadata": {
  "kernelspec": {
   "display_name": "Python 3",
   "language": "python",
   "name": "python3"
  },
  "language_info": {
   "codemirror_mode": {
    "name": "ipython",
    "version": 3
   },
   "file_extension": ".py",
   "mimetype": "text/x-python",
   "name": "python",
   "nbconvert_exporter": "python",
   "pygments_lexer": "ipython3",
   "version": "3.7.6"
  }
 },
 "nbformat": 4,
 "nbformat_minor": 5
}
