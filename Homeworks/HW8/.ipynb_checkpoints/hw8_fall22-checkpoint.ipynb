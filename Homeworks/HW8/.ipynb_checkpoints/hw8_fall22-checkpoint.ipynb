{
 "cells": [
  {
   "cell_type": "code",
   "execution_count": 1,
   "metadata": {},
   "outputs": [],
   "source": [
    "import numpy as np\n",
    "import matplotlib.pyplot as plt"
   ]
  },
  {
   "cell_type": "markdown",
   "metadata": {},
   "source": [
    "### 2. In the hw8_support_funct.py make a function called kepler_3rd(period) that gets as input the orbital period of a planet in years and returns the orbital distance of a planet to the Sun. This function should use the simple approximation for the 3rd law: P^2\\propto\\alpha^3, since it will focus on planets of our Solar system. From Kepler’s 3rd law P^2/\\alpha^3= constant, so you can deduce that {P_1}^2/P_2^2={\\alpha_1}^3/a_2^3.  Use this equation in your function. Write an appropriate docstring. \n",
    "\n",
    "\n",
    "### Use the (P,α) properties of our Earth as the reference point (P1,α1). Remember that the period of our Earth is 1 year or 365.25 days and a_orb = 1 AU (1 Astronomical Unit ~ 150,000,000km or 92,967,000 miles). Import the function in your main homework .py and calculate the distances of the other planets of our Solar system using the observed periods from the following table:\n",
    "\n",
    "\n",
    "\n",
    "\n",
    "Planet | Period [days] \n",
    "--|:---------:\n",
    "Mercury\t| 87.96\n",
    "Venus\t| 224.7 \n",
    "Mars\t| 686.97 \n",
    "Jupiter\t| 4332.82 \n",
    "Saturn\t| 10775.6\n",
    "Uranus\t| 30687.15\n",
    "Neptune\t| 60190.03\n",
    "\n",
    "\n",
    "\n",
    "### How do the values you get compare to the actual distances of the planets (0.4 AU ; 0.7 AU ; 1.524 AU ;  5.2 AU ; 9.6 AU ;  19.2 AU and 30.1AU ) ? Make a plot that compares the real distances with the ones you retrieve from Kepler's law. Use the names of the planets as tick labels on the x axis."
   ]
  },
  {
   "cell_type": "code",
   "execution_count": 2,
   "metadata": {},
   "outputs": [],
   "source": [
    "def kepler_3rd(period):\n",
    "    \"\"\"Returns the orbital distance of a planet based on Kepler's 3rd law. \n",
    "    Input: orbital period of planet in years \n",
    "    Output: orbital distance of planet in AU. \"\"\"\n",
    "    \n",
    "    \n",
    "    p0 = 1        #Earth period in years \n",
    "    a0 = 1        #Earth distance in AU\n",
    "    \n",
    "    a = a0 * (period/p0)**(2./3.)\n",
    "    \n",
    "    return a\n"
   ]
  },
  {
   "cell_type": "code",
   "execution_count": 3,
   "metadata": {},
   "outputs": [],
   "source": [
    "planets ={ \"Mercury\": 87.96 / 365.25, \"Venus\": 224.7 / 365.25, \"Mars\": 686.97/ 365.25, \"Jupiter\": 4332.82/ 365.25,\n",
    "          \"Saturn\": 10775.6/ 365.25, \"Uranus\": 30687.15/ 365.25, \"Neptune\" : 60190.03/ 365.25}\n",
    "\n",
    "a_real = [ 0.4 , 0.7, 1.524, 5.2 , 9.6 ,  19.2, 30.1 ]"
   ]
  },
  {
   "cell_type": "code",
   "execution_count": 4,
   "metadata": {},
   "outputs": [],
   "source": [
    "names = []\n",
    "a_planet = np.zeros(7 )\n",
    "\n",
    "# from hw8_support_functions.py import kepler_3rd"
   ]
  },
  {
   "cell_type": "code",
   "execution_count": 5,
   "metadata": {},
   "outputs": [
    {
     "name": "stdout",
     "output_type": "stream",
     "text": [
      "The distance of  Mercury  to the Sun is  0.38707637398311073\n",
      "The distance of  Venus  to the Sun is  0.7233390285130801\n",
      "The distance of  Mars  to the Sun is  1.5236961311031048\n",
      "The distance of  Jupiter  to the Sun is  5.201400341240987\n",
      "The distance of  Saturn  to the Sun is  9.547745291596849\n",
      "The distance of  Uranus  to the Sun is  19.1827509207773\n",
      "The distance of  Neptune  to the Sun is  30.057733077422224\n"
     ]
    }
   ],
   "source": [
    "m = 0 \n",
    "for key in planets.keys() :\n",
    "    print('The distance of ', key, ' to the Sun is ',  kepler_3rd( planets[ key ] ) )\n",
    "    \n",
    "    names.append( key  )\n",
    "    a_planet[ m ] = kepler_3rd( planets[ key ] )\n",
    "    m = m +1 "
   ]
  },
  {
   "cell_type": "code",
   "execution_count": 6,
   "metadata": {},
   "outputs": [
    {
     "name": "stdout",
     "output_type": "stream",
     "text": [
      "The distance of  Mercury  to the Sun is  0 0.38707637398311073\n",
      "The distance of  Venus  to the Sun is  1 0.7233390285130801\n",
      "The distance of  Mars  to the Sun is  2 1.5236961311031048\n",
      "The distance of  Jupiter  to the Sun is  3 5.201400341240987\n",
      "The distance of  Saturn  to the Sun is  4 9.547745291596849\n",
      "The distance of  Uranus  to the Sun is  5 19.1827509207773\n",
      "The distance of  Neptune  to the Sun is  6 30.057733077422224\n"
     ]
    }
   ],
   "source": [
    "# or: \n",
    "\n",
    "for (key, value, m) in zip(planets.keys(), planets.values(), range( 7 ) ):\n",
    "    print('The distance of ', key, ' to the Sun is ', m, kepler_3rd( value ) )\n",
    "    \n",
    "    names.append( key  )\n",
    "    a_planet[ m ] = kepler_3rd( value )"
   ]
  },
  {
   "cell_type": "code",
   "execution_count": 6,
   "metadata": {},
   "outputs": [
    {
     "data": {
      "text/plain": [
       "Text(0, 0.5, 'Planet distance [AU]')"
      ]
     },
     "execution_count": 6,
     "metadata": {},
     "output_type": "execute_result"
    },
    {
     "data": {
      "image/png": "[encoded data removed]",
      "text/plain": [
       "<Figure size 864x576 with 1 Axes>"
      ]
     },
     "metadata": {
      "needs_background": "light"
     },
     "output_type": "display_data"
    }
   ],
   "source": [
    "#bonus:\n",
    "\n",
    "plt.figure( figsize = (12,8) )\n",
    "plt.plot(  a_real  , marker = 'o', linestyle = 'none', markersize = 14)\n",
    "plt.plot(  a_planet  , marker = 'd', linestyle = 'none')\n",
    "\n",
    "plt.xticks( range(len(names)), names, fontsize = 14 )\n",
    "plt.yticks( fontsize = 20)\n",
    "plt.xlabel( 'Planet', fontsize = 24)\n",
    "plt.ylabel( 'Planet distance [AU]', fontsize = 24)\n",
    "#plt.show()"
   ]
  },
  {
   "cell_type": "markdown",
   "metadata": {},
   "source": [
    "### 3. Your own HW from another class in Python"
   ]
  },
  {
   "cell_type": "code",
   "execution_count": null,
   "metadata": {},
   "outputs": [],
   "source": []
  },
  {
   "cell_type": "code",
   "execution_count": null,
   "metadata": {},
   "outputs": [],
   "source": []
  },
  {
   "cell_type": "markdown",
   "metadata": {},
   "source": [
    "### 4. Make your own class! Graduation season is coming, and you need to buy presents for all your friends graduating! Surprising your friends with many little presents which you hide in one big box is more fun than getting them one big present. "
   ]
  },
  {
   "cell_type": "code",
   "execution_count": 1,
   "metadata": {},
   "outputs": [],
   "source": [
    "class graduation_presents:\n",
    "    \n",
    "#initialize:\n",
    "      def __init__(self, a = 0, b =0, c=0 , gifts = 0, paper = 0 ):\n",
    "        self.a = a\n",
    "        self.b = b\n",
    "        self.c = c\n",
    "        self.gifts = gifts\n",
    "        self.paper = paper\n",
    "        \n",
    "\n",
    "            \n",
    "#define function that returs surface area of the box:\n",
    "      def surface_area(self):\n",
    "        return(self.a*self.b*2+self.b*self.c*2+self.a*self.c*2)\n",
    "    \n",
    "#define function that returns volume of sphere:\n",
    "      def volume(self):\n",
    "        return(self.b*self.a*self.c)\n",
    "    \n",
    "      def fits(self):\n",
    "        return(self.volume() > self.gifts *25)\n",
    "    \n",
    "      def enough_paper(self):\n",
    "            return(self.surface_area() < self.paper)\n",
    "        \n",
    "#define if you have enough wrap paper and if your gifts will fit\n",
    "      def print_gift(self):\n",
    "        if self.enough_paper():\n",
    "            if self.fits():\n",
    "                print(\"Yes, you have enough wrapping paper for the box, and all your presents fit!\")\n",
    "            else:\n",
    "                print(\"Oops! enough paper but not enough space for all the presents.\")\n",
    "        else: \n",
    "            if self.fits():\n",
    "                print(\"Sorry, you don't have enough paper for the box, but at least all your presents fit!\")\n",
    "            else:\n",
    "                print(\"Oops! not enough paper and not enough space :( .\")\n",
    " "
   ]
  },
  {
   "cell_type": "code",
   "execution_count": 2,
   "metadata": {},
   "outputs": [
    {
     "name": "stdout",
     "output_type": "stream",
     "text": [
      "Yes, you have enough wrapping paper for the box, and all your presents fit!\n",
      "Oops! enough paper but not enough space for all the presents.\n",
      "Sorry, you don't have enough paper for the box, but at least all your presents fit!\n"
     ]
    }
   ],
   "source": [
    "#call with dimensions of box a,b,c, how many present you put in (assume average volume of 25in**3 per present) \n",
    "#and how much paper you have in in**2\n",
    "\n",
    "#(10,10,10,15,800); (10,10,10,55,1000)and (100,20,10,55,300).\n",
    "my_first_gift = graduation_presents( 10, 10, 10, 15, 800 )\n",
    "my_first_gift.print_gift()\n",
    "\n",
    "my_second_gift = graduation_presents( 10, 10, 10, 55, 1000 )\n",
    "my_second_gift.print_gift()\n",
    "\n",
    "\n",
    "my_third_gift = graduation_presents( 100, 20, 10, 55, 300 )\n",
    "my_third_gift.print_gift()\n"
   ]
  },
  {
   "cell_type": "code",
   "execution_count": null,
   "metadata": {},
   "outputs": [],
   "source": []
  }
 ],
 "metadata": {
  "kernelspec": {
   "display_name": "Python 3",
   "language": "python",
   "name": "python3"
  },
  "language_info": {
   "codemirror_mode": {
    "name": "ipython",
    "version": 3
   },
   "file_extension": ".py",
   "mimetype": "text/x-python",
   "name": "python",
   "nbconvert_exporter": "python",
   "pygments_lexer": "ipython3",
   "version": "3.7.6"
  }
 },
 "nbformat": 4,
 "nbformat_minor": 5
}
