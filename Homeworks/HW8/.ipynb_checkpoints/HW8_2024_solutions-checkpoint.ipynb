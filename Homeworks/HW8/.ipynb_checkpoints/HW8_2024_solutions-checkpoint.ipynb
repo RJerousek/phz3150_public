{
 "cells": [
  {
   "cell_type": "code",
   "execution_count": 1,
   "metadata": {},
   "outputs": [],
   "source": [
    "import numpy as np\n",
    "import matplotlib.pyplot as plt\n",
    "from mpl_toolkits import mplot3d"
   ]
  },
  {
   "cell_type": "markdown",
   "metadata": {},
   "source": [
    "### 2. Create a numpy array sports with the average distance per sport (swim, bike, run) : 1500, 40000, 10000. \n",
    "‘Mapping’ the names of athletes to an ID number (e.g, Mary = 1, John = 2 etc) create a numpy array athletes_times that contains information about each participant’s average speed per sport "
   ]
  },
  {
   "cell_type": "code",
   "execution_count": 2,
   "metadata": {},
   "outputs": [],
   "source": [
    "def triathlon_time( sports , athletes ):\n",
    "    \"\"\"Calculates the time that athletes participating in a thriatlon will take to finish the race. \n",
    "    Input: Array with distance of sports in m ; 2D array with participants and their average times per sport\n",
    "    Output: Predicted shortest time and longest time\"\"\"\n",
    "    \n",
    "    # how many athletes do we look for?\n",
    "    N = len( athletes [:, 0] )\n",
    "    \n",
    "    # create array that holds their total times for the triathlon:\n",
    "    \n",
    "    tot_times = np.zeros( N )\n",
    "    \n",
    "    # start calculating total times and populating the tot_times:\n",
    "    for i in range( N ) :\n",
    "        \n",
    "        t1 = sports[ 0 ] /  athletes[ i , 1 ]\n",
    "        t2 = sports[ 1 ] /  athletes[ i , 2 ]\n",
    "        t3 = sports[ 2 ] /  athletes[ i , 3 ]\n",
    "        \n",
    "        tot_times[ i ] = t1 + t2 + t3 \n",
    "      \n",
    "    winner   = np.where( tot_times == min(tot_times ) )[0]\n",
    "    last_one = np.where( tot_times == max(tot_times ) )[0]\n",
    "\n",
    "    \n",
    "    print( \"Atlhete \",  winner[0]+1  , \"will finish first with a time of: \", \n",
    "           tot_times[ winner ]/ 3600.   , \"hours.\" )\n",
    "    print( \"Atlhete \", last_one[0]+1 , \"will finish last with a time of: \", \n",
    "           tot_times[ last_one ]/ 3600. , \"hours.\" )\n",
    "    \n",
    "    \n",
    "    print( \"Atlhete {0:d} will finish first with a time of {1:.2f} hours.\".format( int(winner)+1, \n",
    "                                                                               float(tot_times[ winner ]/ 3600.)   ) )\n",
    "    print( \"Atlhete {0:d} will finish last with a time of: {1:.2f} hours.\".format( int(last_one)+1, \n",
    "                                                                               float(tot_times[ last_one ]/ 3600.)   ) )"
   ]
  },
  {
   "cell_type": "code",
   "execution_count": 3,
   "metadata": {},
   "outputs": [],
   "source": [
    "sports = np.array( [1500, 40000, 10000])\n",
    "\n",
    "# make a 2D array with column being sports and line being people:\n",
    "\n",
    "\n",
    "athletes = np.zeros( ( 6 , 4 ) )  #(6 , 3) works as well; I just added an extra for the \"1\", \"2\" as name holders\n",
    "\n",
    "athletes[ :, 0] = np.array( [1, 2, 3, 4, 5, 6])\n",
    "\n",
    "athletes[ :, 1 ] = np.array( [ 1.204, 1.212, 1.14, 1.12, 1.24, 1.201] )\n",
    "athletes[ :, 2 ] = np.array( [ 6.6, 6.5, 6.6, 6.2, 5.6, 6.0 ] )\n",
    "athletes[ :, 3 ] = np.array( [ 0.32, 0.36, 0.38, 0.38, 0.4, 0.3 ] )"
   ]
  },
  {
   "cell_type": "code",
   "execution_count": 4,
   "metadata": {},
   "outputs": [
    {
     "name": "stdout",
     "output_type": "stream",
     "text": [
      "Atlhete  5 will finish first with a time of:  [9.26459293] hours.\n",
      "Atlhete  6 will finish last with a time of:  [11.45804422] hours.\n",
      "Atlhete 5 will finish first with a time of 9.26 hours.\n",
      "Atlhete 6 will finish last with a time of: 11.46 hours.\n"
     ]
    }
   ],
   "source": [
    "#from hw9_support_funct.py import triathlon_time\n",
    "triathlon_time( sports , athletes )"
   ]
  },
  {
   "cell_type": "markdown",
   "metadata": {},
   "source": [
    "### 2c. Change the list sports into a dictionary sports with keywords the sports, and values the total distance for each sport. Change athletes_times into a dictionary that has as keywords the names of participating athletes."
   ]
  },
  {
   "cell_type": "code",
   "execution_count": 5,
   "metadata": {},
   "outputs": [],
   "source": [
    "def triathlon_time_dict( sports , athletes ):\n",
    "    \"\"\"Calculates the time that athletes participating in a thriatlon will take to finish the race. \n",
    "    Input: Dictionary with distance of sports in m ; dictionary with participants and their average times per sport\n",
    "    Output: Predicted shortest time and longest time\"\"\"\n",
    "\n",
    "#create empty list with distances\n",
    "    distances =[]\n",
    "    \n",
    "#read in your dictionarry and append the distances to a list:\n",
    "    for i in sports.keys():\n",
    "        a = sports.get( i )\n",
    "        distances.append( a )\n",
    "\n",
    "#create empty list with times\n",
    "    times = []\n",
    "    \n",
    "#scan athletes dicsitonary keys and get the average time every athlete needs    \n",
    "    for j in athletes.keys():\n",
    "        \n",
    "        #average time per sport\n",
    "         q = np.array( distances )/np.array( athletes.get( j ) )\n",
    "            \n",
    "        #sum to get total time for athlete and append to times:\n",
    "         times.append( np.sum( q ) )\n",
    "            \n",
    "#print minimum  time of race        :\n",
    "    i = 0\n",
    "    \n",
    "    for j in athletes.keys():\n",
    "        \n",
    "        if times[i] == np.min( times ):\n",
    "            print( j , 'will finish first with a time of:', times[ i ]/3600 ,'hours')\n",
    "        i +=1\n",
    "        \n",
    "#print maximum  time of race        :\n",
    "    i = 0\n",
    "    for j in athletes.keys():\n",
    "        if times[i] == np.max(times):\n",
    "            print(j , 'will finish last with a time of:', times[i]/3600 ,'hours')\n",
    "        i +=1"
   ]
  },
  {
   "cell_type": "code",
   "execution_count": 6,
   "metadata": {},
   "outputs": [],
   "source": [
    "sports = {'swim': 1500, 'bike': 40000 , 'run' : 10000}\n",
    "\n",
    "\n",
    "athletes = {'Mary': [1.204, 6.6, 0.32], \n",
    "            'John': [1.212, 6.5, 0.36], \n",
    "            'Peter': [1.14, 6.6, 0.38],\n",
    "            'Mafalda': [1.12, 6.2, 0.38],\n",
    "            'Paul': [1.24, 5.6, 0.4], \n",
    "            'Lionel': [1.201, 6.0, 0.3]}\n"
   ]
  },
  {
   "cell_type": "code",
   "execution_count": 7,
   "metadata": {},
   "outputs": [
    {
     "name": "stdout",
     "output_type": "stream",
     "text": [
      "Paul will finish first with a time of: 9.264592933947771 hours\n",
      "Lionel will finish last with a time of: 11.458044222407253 hours\n"
     ]
    }
   ],
   "source": [
    "#from hw9_support_funct.py import triathlon_time_dict\n",
    "q = triathlon_time_dict(sports, athletes)\n"
   ]
  },
  {
   "cell_type": "code",
   "execution_count": null,
   "metadata": {},
   "outputs": [],
   "source": []
  },
  {
   "cell_type": "markdown",
   "metadata": {},
   "source": [
    "### 3. We want to build an electric circuit with N resistors. What will the properties of our circuit be if we connect them in series or in parallel? .....\n",
    "- Import your function and call it for a series circuit with 3 resistors with resistances of  5.0, 2.0 and  7.0 Ω  and a current I = 10 A; and a parallel circuit with 3 resistors with resistances of 12.0, 5.0 and 20.0 Ω  and a voltage of 15V."
   ]
  },
  {
   "cell_type": "code",
   "execution_count": 8,
   "metadata": {},
   "outputs": [],
   "source": [
    "def my_circuit( sys_info, N, resistances, IV ):\n",
    "    \"\"\"calculates the total resistannce and voltage of electric circuit \n",
    "    with N resistors in series connection.\n",
    "    Input: \n",
    "     - info about parallel or series circuit: 'series' or 'parallel'\n",
    "     - number of resistors in circuit\n",
    "     - numpy array with resistance of each one\n",
    "     - voltage or amperage of circuit\n",
    "    Output:\n",
    "    Total resistance and total voltage or amperage of circuit. \"\"\"\n",
    "    \n",
    "    output = np.zeros(2)\n",
    "    \n",
    "    if sys_info == 'series':\n",
    "        Rtot = np.sum( resistances )\n",
    "    \n",
    "        Vtot = Rtot * IV \n",
    "    \n",
    "        print( 'The total resistance of your circuit in series is ', Rtot, \n",
    "          ' and has a total voltage of ', Vtot, 'for a current of', IV, 'A.' )\n",
    "        \n",
    "        output[ 0 ] = Rtot\n",
    "        output[ 1 ] = Vtot\n",
    "\n",
    "    if sys_info == 'parallel':\n",
    "        \n",
    "        Rtot =  np.sum( 1/ resistances )\n",
    "        \n",
    "        \n",
    "        Itot = IV * Rtot   # I = V/ R = V * (1/R) = V * ( Sigma ( 1/ r_ij ) )\n",
    "\n",
    "        print( 'The total resistance of your circuit in parallel is ', 1/Rtot, \n",
    "          ' and has a total amperage of ', Itot, 'for a voltage of ', Itot, 'V.' )\n",
    "\n",
    "        output[ 0 ] = 1/Rtot\n",
    "        output[ 1 ] = Itot\n",
    "\n",
    "\n",
    "\n",
    "    return output\n"
   ]
  },
  {
   "cell_type": "code",
   "execution_count": 9,
   "metadata": {},
   "outputs": [
    {
     "name": "stdout",
     "output_type": "stream",
     "text": [
      "The total resistance of your circuit in series is  14.0  and has a total voltage of  140.0 for a current of 10 A.\n",
      "The total resistance of your circuit in parallel is  3.0  and has a total amperage of  5.0 for a voltage of  5.0 V.\n"
     ]
    }
   ],
   "source": [
    "q = my_circuit( 'series', 3, np.array([ 5.0, 2.0, 7.0]), 10 )\n",
    "q2 = my_circuit( 'parallel', 3, np.array( [12.0, 5.0, 20.0]), 15)"
   ]
  },
  {
   "cell_type": "code",
   "execution_count": null,
   "metadata": {},
   "outputs": [],
   "source": []
  },
  {
   "cell_type": "code",
   "execution_count": null,
   "metadata": {},
   "outputs": [],
   "source": []
  },
  {
   "cell_type": "markdown",
   "metadata": {},
   "source": [
    "### 4. A piston has a volume V containing dry air (an ideal gas) with pressure P and temperature T. Under the ideal gas law PV/T=const. Under adiabatic expansion, where no heat is added or removed, PV^γ=const, where γ= cp=cv = 1.4 for dry air, and cp and cv are the heat capacities at constant pressure and volume, respectively...."
   ]
  },
  {
   "cell_type": "code",
   "execution_count": 11,
   "metadata": {},
   "outputs": [
    {
     "name": "stdout",
     "output_type": "stream",
     "text": [
      "3a:\n",
      "\n"
     ]
    }
   ],
   "source": [
    "def piston(V, P0, V0, T0, gamma):\n",
    "    \"\"\"Calculates the pressures for a piston of volume V using the adiabatic law.\n",
    "      Input: Volume (V), Initial Pressure (P), Volume (V0) and Temperature (T0) and gamma.\n",
    "      Output: Array with [P,V,T] with shape (N,3)\"\"\"\n",
    "    #use the adiabatic law to calculate the pressure using P*V**1.4 = P0 * V0 **1.4\n",
    "    P = P0 * (V0/V)**gamma\n",
    "    #calculate the temperatures using the ideal gas law PV/T = P0 *V0/T0:\n",
    "    T = T0 * P * V / (P0*V0)\n",
    "# or you can solve it for T2:    \n",
    "#    T2 = V0**(gamma -1 ) * T0/ V**(gamma-1)\n",
    "#    results = np.transpose(([P, V, T, T2]))  # here I return both to show you, you just need one\n",
    "\n",
    "    results = np.transpose(([P, V, T]))\n",
    "    return(results)\n",
    "\n",
    "\n",
    "print( '3a:\\n')\n",
    "# set up the problem:\n",
    "\n",
    "V = np.linspace( 1, 0.1, 40 ) #liters\n",
    "P0 = 1 #atmospheres\n",
    "V0 = 1 #liters\n",
    "T0 = 300 #K\n",
    "gamma = 1.4\n",
    "#print( piston.__doc__ )\n",
    "\n",
    "\n",
    "#call the function:\n",
    "\n",
    "a = piston(V, P0, V0, T0, gamma)"
   ]
  },
  {
   "cell_type": "code",
   "execution_count": 12,
   "metadata": {},
   "outputs": [
    {
     "name": "stdout",
     "output_type": "stream",
     "text": [
      "3b:\n",
      "\n"
     ]
    },
    {
     "data": {
      "image/png": "[encoded data removed]",
      "text/plain": [
       "<Figure size 864x576 with 1 Axes>"
      ]
     },
     "metadata": {
      "needs_background": "light"
     },
     "output_type": "display_data"
    }
   ],
   "source": [
    "%matplotlib inline\n",
    "print( '3b:\\n')\n",
    "\n",
    "fig = plt.figure( figsize = ( 12, 8 ) )\n",
    "ax = plt.axes(projection='3d')\n",
    "P = a[:,0]\n",
    "V = a[:,1]\n",
    "T = a[:,2]\n",
    "#T2 = a[:,3]\n",
    "\n",
    "ax.plot3D(P, V, T, 'gray')\n",
    "#ax.plot3D(P, V, T2, 'blue')\n",
    "ax.set_xlabel('P', fontsize = 20)\n",
    "ax.set_ylabel('V', fontsize = 20)\n",
    "ax.set_zlabel('T', fontsize = 20)\n",
    "ax.tick_params(axis='both', which='major', labelsize=14)"
   ]
  },
  {
   "cell_type": "code",
   "execution_count": 13,
   "metadata": {},
   "outputs": [
    {
     "data": {
      "text/plain": [
       "array([ 1.        ,  1.03322638,  1.06839128,  1.10565892,  1.14521198,\n",
       "        1.18725421,  1.23201349,  1.27974546,  1.33073776,  1.38531513,\n",
       "        1.4438454 ,  1.50674676,  1.5744965 ,  1.64764158,  1.72681158,\n",
       "        1.81273449,  1.90625633,  2.00836556,  2.1202236 ,  2.24320358,\n",
       "        2.37893972,  2.529391  ,  2.69692413,  2.88442283,  3.09543367,\n",
       "        3.33436338,  3.60674976,  3.91964   ,  4.28212883,  4.70614014,\n",
       "        5.20758905,  5.80815609,  6.53807968,  7.44070903,  8.58024027,\n",
       "       10.0555234 , 12.02621435, 14.76609479, 18.78247059, 25.11886432])"
      ]
     },
     "execution_count": 13,
     "metadata": {},
     "output_type": "execute_result"
    }
   ],
   "source": [
    "P"
   ]
  },
  {
   "cell_type": "code",
   "execution_count": 14,
   "metadata": {},
   "outputs": [
    {
     "data": {
      "text/plain": [
       "array([1.        , 0.97692308, 0.95384615, 0.93076923, 0.90769231,\n",
       "       0.88461538, 0.86153846, 0.83846154, 0.81538462, 0.79230769,\n",
       "       0.76923077, 0.74615385, 0.72307692, 0.7       , 0.67692308,\n",
       "       0.65384615, 0.63076923, 0.60769231, 0.58461538, 0.56153846,\n",
       "       0.53846154, 0.51538462, 0.49230769, 0.46923077, 0.44615385,\n",
       "       0.42307692, 0.4       , 0.37692308, 0.35384615, 0.33076923,\n",
       "       0.30769231, 0.28461538, 0.26153846, 0.23846154, 0.21538462,\n",
       "       0.19230769, 0.16923077, 0.14615385, 0.12307692, 0.1       ])"
      ]
     },
     "execution_count": 14,
     "metadata": {},
     "output_type": "execute_result"
    }
   ],
   "source": [
    "V"
   ]
  },
  {
   "cell_type": "code",
   "execution_count": 15,
   "metadata": {},
   "outputs": [
    {
     "data": {
      "text/plain": [
       "array([300.        , 302.81480689, 305.72427345, 308.73399131,\n",
       "       311.85003183, 315.07900078, 318.42810079, 321.90520312,\n",
       "       325.51893018, 329.27875101, 333.19509205, 337.27946626,\n",
       "       341.5446243 , 346.00473233, 350.67558228, 355.57484169,\n",
       "       360.72235256, 366.1404906 , 371.8546004 , 377.89352588,\n",
       "       384.29026213, 391.08276277, 398.314949  , 406.0379829 ,\n",
       "       414.31189122, 423.20766007, 432.80997177, 443.22083096,\n",
       "       454.56444477, 466.99390611, 480.70052795, 495.92717422,\n",
       "       512.98779065, 532.29687693, 554.41552502, 580.12635014,\n",
       "       610.56165137, 647.43646368, 693.50660644, 753.56592945])"
      ]
     },
     "execution_count": 15,
     "metadata": {},
     "output_type": "execute_result"
    }
   ],
   "source": [
    "T"
   ]
  },
  {
   "cell_type": "code",
   "execution_count": null,
   "metadata": {},
   "outputs": [],
   "source": []
  }
 ],
 "metadata": {
  "kernelspec": {
   "display_name": "Python 3",
   "language": "python",
   "name": "python3"
  },
  "language_info": {
   "codemirror_mode": {
    "name": "ipython",
    "version": 3
   },
   "file_extension": ".py",
   "mimetype": "text/x-python",
   "name": "python",
   "nbconvert_exporter": "python",
   "pygments_lexer": "ipython3",
   "version": "3.7.6"
  }
 },
 "nbformat": 4,
 "nbformat_minor": 5
}
