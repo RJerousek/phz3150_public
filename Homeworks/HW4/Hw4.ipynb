{
 "cells": [
  {
   "cell_type": "markdown",
   "id": "865a005a",
   "metadata": {},
   "source": [
    "# Homework 4\n",
    "You can use the space bellow to add all the modules you are importing (e.g., numpy), you can also do it throughtout the notebook, but it's easier to have it all in one place."
   ]
  },
  {
   "cell_type": "code",
   "execution_count": null,
   "id": "51dac6a7-f0be-4b19-8d9a-66397d3d36bc",
   "metadata": {},
   "outputs": [],
   "source": []
  },
  {
   "cell_type": "markdown",
   "id": "8ee88ba3",
   "metadata": {},
   "source": [
    "## Probrem 1  (15 points)\n",
    "Recall the quadratic formula\n",
    "$$x = \\frac{-b\\pm\\sqrt{b^2-4ac}}{2a}$$\n",
    "which solver for the roots of $ax^2 + bx + c =0$. Write a function called quadratic that calculates and returns a list containing both of the roots, given the three coefficients. Be sure to include a docstring! (You do not have to worry about complex roots, only consider real solutions!)"
   ]
  },
  {
   "cell_type": "code",
   "execution_count": null,
   "id": "735dc8d4",
   "metadata": {},
   "outputs": [],
   "source": []
  },
  {
   "cell_type": "markdown",
   "id": "0b2c01e8",
   "metadata": {},
   "source": [
    "Calculate the roots of $x^2-x-12=0$, returning them into the variables x1 and x2 and print them."
   ]
  },
  {
   "cell_type": "code",
   "execution_count": null,
   "id": "8016fff0",
   "metadata": {},
   "outputs": [],
   "source": []
  },
  {
   "cell_type": "markdown",
   "id": "3fb55218",
   "metadata": {},
   "source": [
    "<span style=\"color:red;\">\n",
    "<h1> Solution:</h1>\n",
    "The two roots are 4.0 and -3.0\n",
    "</span>"
   ]
  },
  {
   "cell_type": "markdown",
   "id": "4425beb6",
   "metadata": {},
   "source": [
    "## Problem 2 (10 points)\n",
    "Create a list called student_h that constains lists with the heights of students in feet and inches. A person being 5'6\" would be noted as [5, 6], a person being 5'10\" would be noted as [5, 10] etc. Populate it with the heights of five students who are: 5'1\", 4'10\", 6'2\", 5'7\", and 6'11\"."
   ]
  },
  {
   "cell_type": "code",
   "execution_count": null,
   "id": "a3a4eb6d",
   "metadata": {},
   "outputs": [],
   "source": []
  },
  {
   "cell_type": "markdown",
   "id": "b42db596",
   "metadata": {},
   "source": [
    "Create a function called ft_to_m that takes as input a value from student_h and return each height in a new list [m, cm], rounding the centimeters up. (Rember that 1 ft $\\approx$ 0.3048 m and 1 inch $\\approx$ 0.0254 m and 1 m = 100 cm"
   ]
  },
  {
   "cell_type": "code",
   "execution_count": null,
   "id": "c41782e6",
   "metadata": {},
   "outputs": [],
   "source": []
  },
  {
   "cell_type": "markdown",
   "id": "8f3e76e1",
   "metadata": {},
   "source": [
    "Call the function for all values of student_h and print the resutls."
   ]
  },
  {
   "cell_type": "code",
   "execution_count": null,
   "id": "b3d1f4ec",
   "metadata": {},
   "outputs": [],
   "source": []
  },
  {
   "cell_type": "markdown",
   "id": "50451fa6",
   "metadata": {},
   "source": [
    "<span style=\"color:red;\">\n",
    "<h1> Solution:</h1>\n",
    "Student 1 is 1 m and 55.0 cm tall.<br>\n",
    "Student 2 is 1 m and 48.0 cm tall.<br>\n",
    "Student 3 is 1 m and 88.0 cm tall.<br>\n",
    "Student 4 is 1 m and 71.0 cm tall.<br>\n",
    "Student 5 is 2 m and 11.0 cm tall.\n",
    "</span>"
   ]
  },
  {
   "cell_type": "markdown",
   "id": "d37b76e5",
   "metadata": {},
   "source": [
    "## Problem 3 (20 points)\n",
    "In a separate .py file, create a function called displacement(v0, t, a) taht calculates the total displacememnt of a body during a time interval t, when the body has initial speed v0 and a constant acceleration a. The function will return the displacement. Remember to start the function with a proper docstring. (The displacement of a body that moves with a constant acceleration will be $\\Delta x = v_0 t + \\frac{1}{2}at^2$)\n",
    "\n",
    "Now, import the function from the .py file and calculate the total displacement for v0=0, a = [10, 20, 30], and t=[2, 4, 14], and print the results to a string. (Calculates these numbers some other way, e.g., using a calculator, to check that they are correct)."
   ]
  },
  {
   "cell_type": "code",
   "execution_count": null,
   "id": "fd592721",
   "metadata": {},
   "outputs": [],
   "source": []
  },
  {
   "cell_type": "markdown",
   "id": "dd1e146f",
   "metadata": {},
   "source": [
    "<span style=\"color:red\">\n",
    "<h1>Solution:</h1>\n",
    "The displacement of the first body is 20.0<br>\n",
    "The displacement of the second body is 160.0<br>\n",
    "The displacement of the third body is 2940.0\n",
    "</span>"
   ]
  },
  {
   "cell_type": "markdown",
   "id": "4fda61c9",
   "metadata": {},
   "source": [
    "## Submission (10 points)\n",
    "Prepare and submit your homework. Make sure that all the cells run without erros and that your output matches the solution. Remember that all the functions will be tested with different inputs to assure that they are working as intended!\n",
    "\n",
    "Once that is done, submit this jupyter notebook and your .py file to webcourses."
   ]
  },
  {
   "cell_type": "markdown",
   "id": "311adadf",
   "metadata": {},
   "source": [
    "# Log goes here $\\downarrow$"
   ]
  },
  {
   "cell_type": "code",
   "execution_count": null,
   "id": "494f0a7b",
   "metadata": {},
   "outputs": [],
   "source": []
  }
 ],
 "metadata": {
  "kernelspec": {
   "display_name": "Python 3 (ipykernel)",
   "language": "python",
   "name": "python3"
  },
  "language_info": {
   "codemirror_mode": {
    "name": "ipython",
    "version": 3
   },
   "file_extension": ".py",
   "mimetype": "text/x-python",
   "name": "python",
   "nbconvert_exporter": "python",
   "pygments_lexer": "ipython3",
   "version": "3.11.5"
  }
 },
 "nbformat": 4,
 "nbformat_minor": 5
}
