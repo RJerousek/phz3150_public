{
 "cells": [
  {
   "cell_type": "markdown",
   "metadata": {},
   "source": [
    "# Solutions of HW5: "
   ]
  },
  {
   "cell_type": "code",
   "execution_count": 2,
   "metadata": {},
   "outputs": [],
   "source": [
    "import numpy as np"
   ]
  },
  {
   "cell_type": "markdown",
   "metadata": {},
   "source": [
    "### Write a function that calculates and returns a list containing both of the roots, given the three coefficients. Be sure to include a docstring! What does it need to include? Calculate the roots of x^2-x-12 =0, returning them directly into two variables. Print them!"
   ]
  },
  {
   "cell_type": "code",
   "execution_count": 3,
   "metadata": {},
   "outputs": [
    {
     "name": "stdout",
     "output_type": "stream",
     "text": [
      "Problem 2: \n",
      " \n"
     ]
    }
   ],
   "source": [
    "print( 'Problem 2: \\n ')"
   ]
  },
  {
   "cell_type": "code",
   "execution_count": 4,
   "metadata": {},
   "outputs": [],
   "source": [
    "def quadratic( a, b, c ):\n",
    "    \"\"\"Solves the quadratic formula a*x^2 + b*x + c and returns the roots of x (x1, x2). \n",
    "    Input: a , b, c \n",
    "    Output: x1 = -b + np.sqrt( b **2 - 4 * a * c) \n",
    "            x2 = -b + np.sqrt( b **2 - 4 * a * c) \"\"\"\n",
    "    \n",
    "    x1 = - b + np.sqrt( b **2 - 4 * a * c)\n",
    "    x1 = x1 /(2*a)\n",
    "    \n",
    "    x2 = - b - np.sqrt( b **2 - 4 * a * c)\n",
    "    x2 = x2 /(2*a)\n",
    "    \n",
    "    return [x1,x2]\n",
    "\n"
   ]
  },
  {
   "cell_type": "code",
   "execution_count": 5,
   "metadata": {},
   "outputs": [
    {
     "name": "stdout",
     "output_type": "stream",
     "text": [
      "Call the quadratic function and find the roots to  x^2 - x - 12=0 : \n",
      "\n",
      "4.0 -3.0\n"
     ]
    }
   ],
   "source": [
    "#Calculate the roots of x^2 - x - 12=0, returning them directly into two variables. Print them\n",
    "\n",
    "print('Call the quadratic function and find the roots to  x^2 - x - 12=0 : \\n')\n",
    "\n",
    "x1, x2 = quadratic(1, -1, -12)\n",
    "\n",
    "print (x1, x2)\n",
    "\n"
   ]
  },
  {
   "cell_type": "code",
   "execution_count": 6,
   "metadata": {},
   "outputs": [
    {
     "name": "stdout",
     "output_type": "stream",
     "text": [
      "4.0 -3.0\n"
     ]
    }
   ],
   "source": [
    "#or:\n",
    "\n",
    "solution = quadratic(1, -1, -12)\n",
    "\n",
    "print( solution[ 0 ], solution[ 1 ] )"
   ]
  },
  {
   "cell_type": "code",
   "execution_count": null,
   "metadata": {},
   "outputs": [],
   "source": []
  },
  {
   "cell_type": "markdown",
   "metadata": {},
   "source": [
    "### Create a list student_h that contains the heights of students in feet and inches. A person being 5' 6\" would be noted as 5.06, a person being 5' 10\"  would be noted as 5.10. Populate it with the following values: 5.01, 4.10, 6.02, 5.07,  6.11.  Create a function ft_to_m_cm that takes as input a value from student_h and  returns each height in a list [m, cm] (round cm up). Call the function for all values of  student_h and print the results with an informative sentence (e.g., Student 1 has a height of 1 m 10 cm )  (Remember that 1 ft ~= 0.3048 m and 1 inch ~= 0.0254 m and 1m has 100cm). \n"
   ]
  },
  {
   "cell_type": "code",
   "execution_count": 7,
   "metadata": {},
   "outputs": [
    {
     "name": "stdout",
     "output_type": "stream",
     "text": [
      "Problem 3: \n",
      " \n"
     ]
    }
   ],
   "source": [
    "print( 'Problem 3: \\n ')"
   ]
  },
  {
   "cell_type": "code",
   "execution_count": 8,
   "metadata": {},
   "outputs": [],
   "source": [
    "#create the function:\n",
    "\n",
    "def ft_to_m ( student_h ) :\n",
    "    \"\"\"Calculates the height of a student in m and cm. \n",
    "    Input: height in feet and inches (noted as feet.inches/10 ; e.g., 5' 2\" is 5.02)\n",
    "    Output: list of height in [m , cm ] \"\"\"\n",
    "    \n",
    "    part1 = int( student_h )                                              # height in feet\n",
    "    part2 = ( student_h - part1 ) * 100.                                  # height in inches\n",
    "    \n",
    "   \n",
    "    total_m_height = part1 * 0.3048 + part2 * 0.0254                    # height in m (total)\n",
    "    height_in_m    = int( total_m_height )                              # height in m only\n",
    "    height_in_cm   = np.ceil( ( total_m_height - height_in_m ) * 100. ) # height in cm only\n",
    "    \n",
    "    return [ height_in_m, height_in_cm ]\n",
    "    "
   ]
  },
  {
   "cell_type": "code",
   "execution_count": 9,
   "metadata": {},
   "outputs": [
    {
     "name": "stdout",
     "output_type": "stream",
     "text": [
      "Student 1 has a height of:  1  m,  55.0  cm.\n",
      "Student 2 has a height of:  1  m,  48.0  cm.\n",
      "Student 3 has a height of:  1  m,  88.0  cm.\n",
      "Student 4 has a height of:  1  m,  71.0  cm.\n",
      "Student 5 has a height of:  2  m,  11.0  cm.\n"
     ]
    }
   ],
   "source": [
    "# make list :\n",
    "student_h = [ 5.01, 4.10, 6.02, 5.07, 6.11 ]\n",
    "\n",
    "# for every input in list call function to calculate the height of student in m:\n",
    "m_cm = ft_to_m ( student_h[ 0 ] ) \n",
    "print( \"Student 1 has a height of: \", m_cm[ 0 ], \" m, \" , m_cm[ 1 ], \" cm.\" )\n",
    "\n",
    "m_cm = ft_to_m ( student_h[ 1 ] ) \n",
    "print( \"Student 2 has a height of: \", m_cm[ 0 ], \" m, \" , m_cm[ 1 ], \" cm.\" )\n",
    "\n",
    "m_cm = ft_to_m ( student_h[ 2 ] ) \n",
    "print( \"Student 3 has a height of: \", m_cm[ 0 ], \" m, \" , m_cm[ 1 ], \" cm.\" )\n",
    "\n",
    "m_cm = ft_to_m ( student_h[ 3 ] ) \n",
    "print( \"Student 4 has a height of: \", m_cm[ 0 ], \" m, \" , m_cm[ 1 ], \" cm.\" )\n",
    "\n",
    "m_cm = ft_to_m ( student_h[ 4 ] ) \n",
    "print( \"Student 5 has a height of: \", m_cm[ 0 ], \" m, \" , m_cm[ 1 ], \" cm.\" )\n",
    "\n"
   ]
  },
  {
   "cell_type": "code",
   "execution_count": null,
   "metadata": {},
   "outputs": [],
   "source": []
  },
  {
   "cell_type": "markdown",
   "metadata": {},
   "source": [
    "### Create a function displacement(u_init, t ,a) that calculates the total displacement of a body during a time interval t, when the body has initial speed u_init and a constant acceleration a. Save it in a separate file, not your main homework file. Remember to start the function with a proper docstring. Also, remember that the displacement of a body that moves with a constant acceleration is given by s=u_init*t+0.5*a*t2, where t is the total time (t2-t1), a the constant acceleration and u_init the initial speed of the body. In your main homework file import the function and calculate the total displacement for u_init=0, a=[10, 20, 30] and t=[2,4,14]. Again, calculate these numbers some other way to check that they are correct, and write on your comments how you checked it."
   ]
  },
  {
   "cell_type": "code",
   "execution_count": 10,
   "metadata": {},
   "outputs": [
    {
     "name": "stdout",
     "output_type": "stream",
     "text": [
      "Problem 4:\n",
      "\n",
      "Help on function displacement in module displacements:\n",
      "\n",
      "displacement(u, t, a)\n",
      "    Calculates the total displacement of a body during a time interval t, \n",
      "    when the body has initial speed u_init and a constant acceleration a. \n",
      "    \n",
      "    Input: u (m/s), t (sec), a (m/s^2)\n",
      "    Output: d (m)\n",
      "\n",
      "20.0\n",
      "160.0\n",
      "2940.0\n"
     ]
    }
   ],
   "source": [
    "# Problem 5:\n",
    "\n",
    "print('Problem 4:\\n')\n",
    "\n",
    "#import displacement function:\n",
    "\n",
    "from displacements import displacement\n",
    "\n",
    "#print its docstring:\n",
    "\n",
    "help( displacement )\n",
    "#or print( displacement.__doc__)\n",
    "\n",
    "\n",
    "#Calculate displacement for u_init=0,a=[10, 20, 30]and t=[2,4,14] ; use displacement(u,t,a)\n",
    "\n",
    "u_init = 0 \n",
    "a = [ 10, 20, 30 ]\n",
    "t = [  2, 4 , 14 ]\n",
    "\n",
    "print( displacement( u_init, t[0], a[0] ) )\n",
    "print( displacement( u_init, t[1], a[1] ) )\n",
    "print( displacement( u_init, t[2], a[2] ) )\n",
    "\n"
   ]
  },
  {
   "cell_type": "code",
   "execution_count": null,
   "metadata": {},
   "outputs": [],
   "source": []
  }
 ],
 "metadata": {
  "kernelspec": {
   "display_name": "Python 3",
   "language": "python",
   "name": "python3"
  },
  "language_info": {
   "codemirror_mode": {
    "name": "ipython",
    "version": 3
   },
   "file_extension": ".py",
   "mimetype": "text/x-python",
   "name": "python",
   "nbconvert_exporter": "python",
   "pygments_lexer": "ipython3",
   "version": "3.7.6"
  }
 },
 "nbformat": 4,
 "nbformat_minor": 5
}
