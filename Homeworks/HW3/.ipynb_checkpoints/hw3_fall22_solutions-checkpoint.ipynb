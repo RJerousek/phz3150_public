{
 "cells": [
  {
   "cell_type": "code",
   "execution_count": 1,
   "metadata": {},
   "outputs": [],
   "source": [
    "## This is just for Problem 3; the coding"
   ]
  },
  {
   "cell_type": "code",
   "execution_count": 2,
   "metadata": {},
   "outputs": [],
   "source": [
    "# Use Markdown to write a descriptive text about your notebook at the \n",
    "# start of the notebook (something like “practice notebook” …)."
   ]
  },
  {
   "cell_type": "markdown",
   "metadata": {},
   "source": [
    "## This is my first notebook. Here I practice how to use Markdown for comments"
   ]
  },
  {
   "cell_type": "code",
   "execution_count": 4,
   "metadata": {},
   "outputs": [
    {
     "name": "stdout",
     "output_type": "stream",
     "text": [
      "1000 90\n",
      "1000\n",
      "90\n"
     ]
    }
   ],
   "source": [
    "# Define variable x equal to 10 and variable y equal to 100. \n",
    "\n",
    "x = 10\n",
    "y = 100\n",
    "\n",
    "# Define variable z equal to the product of x and y and variable w \n",
    "# equal to the difference of y and x. Print z and w.\n",
    "\n",
    "z = x * y \n",
    "w = y - x \n",
    "\n",
    "print( z, w )\n",
    "\n",
    "# or \n",
    "print( z )\n",
    "print( w )"
   ]
  },
  {
   "cell_type": "code",
   "execution_count": 5,
   "metadata": {},
   "outputs": [],
   "source": [
    "# Make a variable named min that is equal to 3. What do you notice? \n",
    "# Is min a good name to use for your variable? Why/ why not? \n",
    "# Explain in your Jupyter notebook (make a comment in your notebook using #, do not do it in markdown).\n",
    "\n",
    "min = 3 \n",
    "\n",
    "# min turns green because it is a name reserved for the min function of python. \n",
    "# It is not a good name to use because of this reason. Better options would have been \n",
    "# names like min_value = 3; min_x = 3 etc"
   ]
  },
  {
   "cell_type": "code",
   "execution_count": null,
   "metadata": {},
   "outputs": [],
   "source": []
  },
  {
   "cell_type": "code",
   "execution_count": 6,
   "metadata": {},
   "outputs": [
    {
     "name": "stdout",
     "output_type": "stream",
     "text": [
      "1\n",
      "2\n",
      "20\n"
     ]
    }
   ],
   "source": [
    "# Make a variable q equal to 1. Print q. Add one to q. Print q. \n",
    "# In one line multiply q by 10 and print the result.\n",
    "\n",
    "q = 1\n",
    "\n",
    "print( q )\n",
    "\n",
    "q = q + 1\n",
    "\n",
    "print( q )\n",
    "\n",
    "print( q * 10 )"
   ]
  },
  {
   "cell_type": "code",
   "execution_count": null,
   "metadata": {},
   "outputs": [],
   "source": []
  }
 ],
 "metadata": {
  "kernelspec": {
   "display_name": "Python 3",
   "language": "python",
   "name": "python3"
  },
  "language_info": {
   "codemirror_mode": {
    "name": "ipython",
    "version": 3
   },
   "file_extension": ".py",
   "mimetype": "text/x-python",
   "name": "python",
   "nbconvert_exporter": "python",
   "pygments_lexer": "ipython3",
   "version": "3.7.6"
  }
 },
 "nbformat": 4,
 "nbformat_minor": 5
}
