{
 "cells": [
  {
   "cell_type": "markdown",
   "metadata": {},
   "source": [
    "### For this Midterm exam we will be coding a little 2-D kinematics/projectile motion problem solver. Ours will be a simplified program which doesn't take into account air resistance, centrifugal, or Coriolis forces. We will build the problem in stages but a lot of the points require your first stages to run correctly.\n",
    "Problems to Hand In: Your log is part of your Midterm exam. In one of the entries, it should identify the start and end of the Midterm and list the problem numbers in order. Keep notes about what you are doing for each problem, as well as the answers to the problems."
   ]
  },
  {
   "cell_type": "code",
   "execution_count": null,
   "metadata": {},
   "outputs": [],
   "source": []
  },
  {
   "cell_type": "markdown",
   "metadata": {},
   "source": [
    "#### Part A. (30 pts) Create a function that considers the case of ZERO acceleration (constant velocity motion) in the $x$-direction and takes in 2 of the 3 kinematic variables: $\\Delta x$, $v_x$,  and $t$ and calculates the remaining variable. Make sure to include an informative doc string and to test and account for errors based on the range of possible user inputs. Hint: You will need to use If/Else statements."
   ]
  },
  {
   "cell_type": "code",
   "execution_count": null,
   "metadata": {},
   "outputs": [],
   "source": []
  },
  {
   "cell_type": "markdown",
   "metadata": {},
   "source": [
    "#### Part B. (20 pts) Create a function, const_accel, that takes in the magnitude of a planet's constant acceleration due to gravity, $g$ and all but 2 of the 4 kinematic variables: $\\Delta y$, $v_{0y}$, $v_{fy}$, and $t$. Your function should calculate the 2 kinematic variables which were not given from the quantities that are known. Neglect air resistance. Make sure to include an informative doc string and to test and account for errors based on the range of possible user inputs. You can find a list of the four kinematic equations for constant acceleration in any introductory physics book.###"
   ]
  },
  {
   "cell_type": "code",
   "execution_count": null,
   "metadata": {},
   "outputs": [],
   "source": []
  },
  {
   "cell_type": "markdown",
   "metadata": {},
   "source": [
    "#### Part C. (10 pts) Write a function, kin_2D which calls one or both of the previous two functions and takes as input the (positive) magnitude of the acceleration due to gravity on a planet's surface, $g$, an initial position vector $\\vec{r}_0 = (x_0,y_0)$ in m, a time $t$ in s, and the magnitude and angle (counterclockwise from the horizon or $+x$-axis) of the initial velocity $|\\vec{v_0}|$ at angle $\\theta$. The function should return the final position vector's $x$ and $y$ components in a 2 element array pos_f and the final velocity vector's x and y components in a 2 element array vel_f. \n",
    "Hint you must use trigonometry to break up the velocity vector into $x$ and $y$ components. "
   ]
  },
  {
   "cell_type": "code",
   "execution_count": null,
   "metadata": {},
   "outputs": [],
   "source": []
  },
  {
   "cell_type": "markdown",
   "metadata": {},
   "source": [
    "#### Part D. (10 points) Write a function make_plots, that takes in the same values as the previous problem but now also take in an array, $t$ of 1000 times at 0.2 s intervals. The function should create 4 publication ready, labeled figures:\n",
    "- Figure 1: The height of the projectile as a function of time $y(t)$. \n",
    "- Figure 2: The magnitude of the velocity of the projectile $\\vec{v}$ as a function of time. \n",
    "- Figure 3: The height ($y$) of the projectile as a function of the $x$-position of the projectile (trajectory).\n",
    "- Figure 4: The angle $\\theta$ in which the projectile is moving in as a function of the projectile's $x$-position. (take the angle to be positive in the counterclockwise direction from the $+x$-axis and use units of degrees). Hint: Using a FOR loop for this is fine."
   ]
  },
  {
   "cell_type": "code",
   "execution_count": null,
   "metadata": {},
   "outputs": [],
   "source": []
  },
  {
   "cell_type": "markdown",
   "metadata": {},
   "source": [
    "#### Part E. (10 points) \n",
    "1. Call the function and produce figures 1 - 4 for a projectile launched from $x = 0$ m on top of a $5$ m hill on Mars  with an initial velociy of $2$ m/s at $30^\\circ$ ABOVE the horizon.\n",
    "2. Call the function and produce figures 1 - 4 for a projectile launched from $x = 0$ m on top of a $5$ m hill on Earth with an initial velociy of $7$ m/s at $30^\\circ$ BELOW the horizon.\n",
    "3. Call the function and produce figures 1 - 4 for a projectile launched from $x = 3.3$ m on top of a $10$ m hill on the Moon with an initial velociy of $70$ m/s at $10^\\circ$ ABOVE the horizon.\n",
    "4. Create a markdown cell and comment about if your results seem to make sense. ($\\sim$ 3 - 4 sentences)"
   ]
  },
  {
   "cell_type": "code",
   "execution_count": null,
   "metadata": {},
   "outputs": [],
   "source": []
  },
  {
   "cell_type": "markdown",
   "metadata": {},
   "source": [
    "#### Part F. (5 points) Make a plot of the total energy (Kinetic + Potential) of the projectile as a function of time for 1-3 in part E. Assume that the mass is 1 kg. Kinetic Energy is $\\frac{1}{2}mv^2$ and potential energy is $mgy$. The three curves should be in one figure using different colors and labeled with a legend showing the planet they took place on."
   ]
  },
  {
   "cell_type": "code",
   "execution_count": null,
   "metadata": {},
   "outputs": [],
   "source": []
  },
  {
   "cell_type": "markdown",
   "metadata": {},
   "source": [
    "#### Part G. (5 points) Make a \"wrapper\" function, my_wrapper, that asks the user for the following input: \n",
    "- The planet on which the motion is taking place, i.e. \"Earth\", \"Jupiter\", \"Mars\", \"Moon\" etc. Your function should be able to \"look up\" $g$ for the selected planet.\n",
    "- The initial position vector $\\vec{r}_0 = (x_0,y_0)$ in m. (Make sure that $y_0$ is a positive number (the projectile should start above ground level.)\n",
    "- The magnitude and angle (counterclockwise from the horizon or $+x$-axis) of the initial velocity $|\\vec{v_0}|$ at angle $\\theta$.\n",
    "\n",
    "#### The wrapper function should call your functions from previous parts to tell the user how long it will take for the projectile to hit the ground and what its speed will be on impact.\n",
    "#### The wrapper function should also create all of the plots in from part D."
   ]
  },
  {
   "cell_type": "code",
   "execution_count": null,
   "metadata": {},
   "outputs": [],
   "source": []
  }
 ],
 "metadata": {
  "kernelspec": {
   "display_name": "Python 3 (ipykernel)",
   "language": "python",
   "name": "python3"
  },
  "language_info": {
   "codemirror_mode": {
    "name": "ipython",
    "version": 3
   },
   "file_extension": ".py",
   "mimetype": "text/x-python",
   "name": "python",
   "nbconvert_exporter": "python",
   "pygments_lexer": "ipython3",
   "version": "3.11.5"
  }
 },
 "nbformat": 4,
 "nbformat_minor": 4
}
