{
 "cells": [
  {
   "cell_type": "code",
   "execution_count": 1,
   "id": "9092bd0e-726b-4a4f-b502-8ea4809ebda4",
   "metadata": {},
   "outputs": [
    {
     "data": {
      "text/plain": [
       "9.046180279738164e+18"
      ]
     },
     "execution_count": 1,
     "metadata": {},
     "output_type": "execute_result"
    }
   ],
   "source": [
    "import numpy as np\n",
    "P = 147e3 #Pa\n",
    "R = 2.575e6 #m\n",
    "M = 1.346e23 #kg\n",
    "G = 6.67e-11\n",
    "matm = P*4*np.pi*R**4/(G*M)\n",
    "matm"
   ]
  },
  {
   "cell_type": "code",
   "execution_count": 2,
   "id": "b5662367-2af8-4f24-bebf-c1ddc25046c2",
   "metadata": {},
   "outputs": [
    {
     "data": {
      "text/plain": [
       "1.7067924528301885"
      ]
     },
     "execution_count": 2,
     "metadata": {},
     "output_type": "execute_result"
    }
   ],
   "source": [
    "9.046/5.3\n"
   ]
  },
  {
   "cell_type": "code",
   "execution_count": null,
   "id": "6b9807f7-5364-4c7e-8554-68efce82e0d3",
   "metadata": {},
   "outputs": [],
   "source": []
  }
 ],
 "metadata": {
  "kernelspec": {
   "display_name": "Python 3 (ipykernel)",
   "language": "python",
   "name": "python3"
  },
  "language_info": {
   "codemirror_mode": {
    "name": "ipython",
    "version": 3
   },
   "file_extension": ".py",
   "mimetype": "text/x-python",
   "name": "python",
   "nbconvert_exporter": "python",
   "pygments_lexer": "ipython3",
   "version": "3.11.5"
  }
 },
 "nbformat": 4,
 "nbformat_minor": 5
}
